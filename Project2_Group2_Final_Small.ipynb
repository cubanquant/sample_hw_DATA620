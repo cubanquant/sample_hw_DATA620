{
 "cells": [
  {
   "cell_type": "markdown",
   "id": "c0d27f5a-dc27-48de-a1d4-99ebc9ebcf37",
   "metadata": {
    "tags": []
   },
   "source": [
    "# $\\color{purple}{\\text{Network Analysis of Senate Voting Patterns}}$\n",
    "\n",
    "____\n",
    "\n",
    "__By Alexander Ng & Philip Tanofsky__\n",
    "\n",
    "**Data 620 Web Analytics**\n",
    "\n",
    "**Submitted March 30, 2022**\n",
    "\n",
    "____\n",
    "\n",
    "We analyze from a social network perspective the United States Senate voting patterns in the 113th Congress of two types of roll calls: Senate initiated bills and presidential nominations.  Our goal is to find, visualize and interprete patterns of coordinated voting behavior.  Is voting always split along party lines or do other factors emerge?\n",
    "\n",
    "In Part I, we discuss Senate initiated legislation and analyze the network patterns.  We discuss the background of Senate voting, describe the questions to be addressed.  We also discuss the dataset which is common for both Parts I and II. We find that overall polarization does exist in the Senate of the 113th Congress based on the voting patterns of Senate bills. We locate smaller factions of Senators within each party with very common voting records along with the identification of one Senator with a voting pattern more in line with the opposition party for a subset of bills.\n",
    "\n",
    "In Part II, we discuss Senate nominations of high official positions to the Cabinet, judiciary and various agencies.  We use network projection methods to find clusters within both senators and nominations.   The results can be explained by variations in liberal-conservative ideology, duration of Senatorial service, branch of government and other factors.\n",
    "\n",
    "Both Parts use a social network analysis approach to study this dataset.   By modeling Senate rollcall votes as a 2-mode network (a bipartite graph) of Senators and rollcalls, we can apply the arsenal of graph theory.\n",
    "\n",
    "<img src=\"https://www.lifeandnews.com/articles/wp-content/uploads/senate-floor.jpg\" width=800 height=500 />\n",
    "____"
   ]
  },
  {
   "cell_type": "markdown",
   "id": "57a9dc47-e0e4-4e53-8709-bc296bba214f",
   "metadata": {
    "tags": []
   },
   "source": [
    "# $\\color{blue}{\\text{Part One:  Senate Initiated Legislation}}$\n",
    "\n",
    "## Background\n",
    "\n",
    "US Senate voting patterns are well documented public data.   Our data source was the voteview website [www.voteview.com] which published Congressional voting data of both chambers from the establishment of the Republic to its current Congress.   Extensive prior work has been done to model voting patterns using statistical methods.   The most famous model is the DW-NOMINATE model developed by political scientistis Kevin Poole and Howard Rosenthal  https://en.wikipedia.org/wiki/NOMINATE_(scaling_method).  Poole and Rosenthal also co-created the voteview.com website.\n",
    "\n",
    "The analysis attempts to answer three questions:\n",
    "\n",
    "1. What is the level of polarization within the Senate of the 113th Congress?\n",
    "2. Do smaller factions of Senators exist with similar voting patterns within each party?\n",
    "3. Does any Senator appear to vote more in line with the opposition party?\n",
    "\n",
    "___\n",
    "\n",
    "\n"
   ]
  },
  {
   "cell_type": "markdown",
   "id": "dffde19f-61d2-4384-9dcf-f2a7d1f3b992",
   "metadata": {},
   "source": [
    "## Data\n",
    "\n",
    "\n",
    "We use data for the 113th Congress which convened from January 3, 2013 - January 3, 2015 during the fifth and sixth years of the Barack Obama presidential administration.   The 113th Congress refers to both chambers:  House of Representatives and the Senate.   We focus on the Senate which normally has 100 active voting members (2 per State).\n",
    "\n",
    "The dataset consists of 3 files obtained on https://voteview.com/data\n",
    "\n",
    "   * `S113_members.csv` contains the list of 105 members of the US Senate.  \n",
    "   * `S113_rollcalls.json` contains the set of legislative roll calls including bills, procedural motions, nominations, cloture votes.  It contains metadata as well.\n",
    "   * `S113_votes.csv` contains a dataframe of votes made by each Senator for each rollcall item from `S113_rollcalls.json` discussed earlier.  It also refers to the members by a foreign key in `S113_members.csv`.\n",
    "   \n",
    "The legislative rollcalls are identified with the scope of the dataset by a `bill code` and a `rollcall number`.  For example, the nomination of Jacob Lew as Secretary of the Treasury is identified by `bill code` `PN40` and by `rollcall number` `26`.   The `rollcall number` is unique to each item to be voted while the `bill code` is associated with the legislation or nomination as well as procedure voted like cloture.  Each Senate member is uniquedly assigned a 5 digit `icpsr` numeric code.  For example, Barbara Boxer has icpsr code 15011."
   ]
  },
  {
   "cell_type": "markdown",
   "id": "da69be8e-6a82-45bf-abe5-066b41bf4493",
   "metadata": {},
   "source": [
    "### Nuances of the Data\n",
    "\n",
    "#### Changes of Membership\n",
    "\n",
    "The dataset contains 105 senators because of changes in membership due to death or resignation.   While the Senate normally has 100 active voting members, during the 2 year period of the 113th Congress, changes arose.  These changes were:\n",
    "\n",
    "*  Death of Frank Lautenberg, NJ - Democrat on June 3, 2013 - replaced by gubernatorial appointment of Jeffrey Chiesa, NJ - Republican on June 6, 2013.\n",
    "*  Replacement of Jeffrey Chiesa, NJ - Republican on Oct 31, 2013 by Corey Booker, NJ - Democrat due to a special election following the death of Frank Lautenberg.\n",
    "*  Replacement of John Kerry, MA - Democrat on Feb 1, 2013 who become US Secretary of State by Mo Cowan by gubernatorial appointment.\n",
    "*  Replacement of Mo Cowan, MA - Democrat on July 16, 2013 by Ed Markey, MA - Democrat by special election.\n",
    "*  Replacement of Max Baucus, MT - Democrat on February 11, 2014 by John Walsh, MT Democrat on February 11, 2014\n",
    "\n",
    "Source:  https://en.wikipedia.org/wiki/113th_United_States_Congress#Changes_in_membership\n",
    "\n",
    "#### How Votes are Cast\n",
    "\n",
    "Another nuance concerns the outcome of each Senator's vote.  It is not binary.   Formally, there are 10 different results that could be recorded for each vote.   For our purposes, we collapse them down to 3 outcomes:\n",
    "\n",
    "*  `Yea` - a Yes vote in the affirmative on the motion, bill or nomination.\n",
    "*  `Nay` - a No vote\n",
    "*  `Present` - equivalent to choosing not to vote for multiple reasons.  We also treat absent votes in the `Present` category.  It favors neither Yea or Nay.\n",
    "\n",
    "\n",
    "#### Data Quality\n",
    "\n",
    "Due to the importance of this dataset, the quality of rollcall voting data is very high.   Highly accurate recordkeeping is essential for both the passage of legislation and the operation of government.\n",
    "While some data transformations were made for this analysis, no data corrections were required to our knowledge.\n",
    "\n",
    "\n",
    "_____\n"
   ]
  },
  {
   "cell_type": "markdown",
   "id": "6f4dcf1f-90fc-4919-8591-404bdee9baf4",
   "metadata": {},
   "source": [
    "## Methods\n",
    "\n",
    "All data is retrieved from the site voteview.com in JSON format."
   ]
  },
  {
   "cell_type": "markdown",
   "id": "2bc13c6c-5b72-493a-a955-bc5da486482a",
   "metadata": {},
   "source": [
    "### Senator Votes\n",
    "Read in the individual Senator votes by rollnumber.\n",
    "- congress: 113 confirms the data is correct\n",
    "- icpsr: unique identifier for each Senator\n",
    "- cast_code: actual vote cast based on the following codes\n",
    "- rollnumber: vote for the Senate of that Congress. Number increments with each vote.\n",
    "\n"
   ]
  },
  {
   "cell_type": "code",
   "execution_count": null,
   "id": "24aed10e-f42e-4bd2-b8b7-2f0996edbf55",
   "metadata": {},
   "outputs": [],
   "source": [
    "# https://voteview.com/static/data/out/votes/S113_votes.json\n",
    "s113_votes_raw_df = pd.read_json('S113_votes.json')"
   ]
  },
  {
   "cell_type": "code",
   "execution_count": null,
   "id": "12b20aa9-58c8-4b5d-b7e0-05d6cd14b0e5",
   "metadata": {},
   "outputs": [],
   "source": [
    "s113_votes_raw_df.head()"
   ]
  },
  {
   "cell_type": "markdown",
   "id": "b71a7b2b-baab-437a-b903-15c4a9877230",
   "metadata": {},
   "source": [
    "Next, we trim the dataframe to only contain $icpsr$, $cast\\_code$, and $rollnumber$. The JSON from voteview.com contains Barack Obama votes on the Senate rollnumbers. We have removed his votes by $icpsr$ \"99911\" as he was President and not a Senator at the time."
   ]
  },
  {
   "cell_type": "code",
   "execution_count": null,
   "id": "48b8ca6f-00f5-49b3-a447-5de512ef9541",
   "metadata": {},
   "outputs": [],
   "source": [
    "# Select only the columns I want to use later\n",
    "s113_votes_sel_df = s113_votes_raw_df[['icpsr', 'cast_code', 'rollnumber']]\n",
    "# Convert all to string\n",
    "s113_votes_sel_df = s113_votes_sel_df.astype(str)\n",
    "# Remove Barack Obama from the list (icpsr==99911)\n",
    "s113_votes_sel_df = s113_votes_sel_df.drop(s113_votes_sel_df[s113_votes_sel_df.icpsr == '99911'].index)\n",
    "s113_votes_sel_df = s113_votes_sel_df.reset_index(drop=True)\n",
    "s113_votes_sel_df.head()"
   ]
  },
  {
   "cell_type": "markdown",
   "id": "c214ffa1-af0b-49b9-a90e-457ac77e295b",
   "metadata": {},
   "source": [
    "We retrieve all the unique IDs from the $icpsr$ column, which is the unique identifier of each Senator. We confirm the overall Senator count is 105. The list of Senator IDs will be needed later to define the Senator graph nodes."
   ]
  },
  {
   "cell_type": "code",
   "execution_count": null,
   "id": "990be95a-d304-47e7-b45c-8127d461c7b8",
   "metadata": {},
   "outputs": [],
   "source": [
    "senator_ids = s113_votes_sel_df['icpsr'].unique()"
   ]
  },
  {
   "cell_type": "code",
   "execution_count": null,
   "id": "ee52ffd4-f96f-4cf0-9460-e2348ebbfad0",
   "metadata": {},
   "outputs": [],
   "source": [
    "senator_ids"
   ]
  },
  {
   "cell_type": "code",
   "execution_count": null,
   "id": "fe68102c-49dd-46d1-acf1-21b4379f4448",
   "metadata": {},
   "outputs": [],
   "source": [
    "len(senator_ids) # 105"
   ]
  },
  {
   "cell_type": "markdown",
   "id": "41853b33-d75f-4cee-b405-99b59cc33164",
   "metadata": {},
   "source": [
    "### Senator Metadata\n",
    "\n",
    "Read in the Senate members JSON object which contains the metadata for each Senator including $bioname$ and $party\\_code$."
   ]
  },
  {
   "cell_type": "code",
   "execution_count": null,
   "id": "5fdb25b9-9911-4a7f-80d4-09eb87d141cd",
   "metadata": {},
   "outputs": [],
   "source": [
    "# https://voteview.com/static/data/out/members/S113_members.json\n",
    "s113_members_raw_df = pd.read_json('S113_members.json')"
   ]
  },
  {
   "cell_type": "code",
   "execution_count": null,
   "id": "7469c9bb-eb75-41a2-acf2-98dff2cae46c",
   "metadata": {},
   "outputs": [],
   "source": [
    "s113_members_raw_df.head()"
   ]
  },
  {
   "cell_type": "markdown",
   "id": "0cf02075-8972-4928-b131-d02f74020c8b",
   "metadata": {},
   "source": [
    "We trim the dataframe to contain only the necessary data.\n",
    "\n",
    "- icpsr: Unique identifier\n",
    "- state_abbrev: State for which the Senator represents\n",
    "- party_code: Political party of Senator\n",
    "- bioname: Full name of Senator\n",
    "- nominate_dim1: NOMINATE statistic defining the Senator idealogy on a scale of -1 to 1 with -1 being far liberal and 1 being far conservative.\n",
    "\n",
    "Again, we remove Barack Obama (\"99911\")."
   ]
  },
  {
   "cell_type": "code",
   "execution_count": null,
   "id": "2eaf0e79-2a4a-4a29-a0b8-f8fd74bd9174",
   "metadata": {},
   "outputs": [],
   "source": [
    "# icpsr, state_abbrev, party_code, bioname\n",
    "s113_members_sel_df = s113_members_raw_df[['icpsr','state_abbrev','party_code','bioname','nominate_dim1']]\n",
    "s113_members_sel_df = s113_members_sel_df.astype(str)\n",
    "s113_members_sel_df[['nominate_dim1']] = s113_members_sel_df[['nominate_dim1']].astype(float) \n",
    "# Remove Barack Obama\n",
    "s113_members_sel_df = s113_members_sel_df.drop(s113_members_sel_df[s113_members_sel_df.icpsr == '99911'].index)\n",
    "s113_members_sel_df = s113_members_sel_df.reset_index(drop=True)\n",
    "s113_members_sel_df.head()"
   ]
  },
  {
   "cell_type": "markdown",
   "id": "3f44dddf-6b4e-4d7b-861e-7dded1840a82",
   "metadata": {},
   "source": [
    "Confirm Senator count is 105 to match previous input file."
   ]
  },
  {
   "cell_type": "code",
   "execution_count": null,
   "id": "d4eb2730-2f7c-4d30-abd9-fd445e75d459",
   "metadata": {},
   "outputs": [],
   "source": [
    "len(s113_members_sel_df) # 105"
   ]
  },
  {
   "cell_type": "code",
   "execution_count": null,
   "id": "47db3576-8057-41d1-8f52-81283d2c260f",
   "metadata": {},
   "outputs": [],
   "source": [
    "s113_members_sel_df.head()\n",
    "# icpsr, state_abbrev, party_code, bioname"
   ]
  },
  {
   "cell_type": "code",
   "execution_count": null,
   "id": "d21ff69c-0a60-4c06-af8e-e34e1fde8b75",
   "metadata": {},
   "outputs": [],
   "source": [
    "# Get unique party codes\n",
    "party_codes = s113_members_sel_df['party_code'].unique()\n",
    "party_codes"
   ]
  },
  {
   "cell_type": "markdown",
   "id": "7b7963ce-e332-4b76-a6ff-15dd242c0865",
   "metadata": {
    "tags": []
   },
   "source": [
    "Check $party\\_code$ values.\n",
    "\n",
    "- 100: Democrat\n",
    "- 200: Republican\n",
    "- 328: Independent (for 113 Congress, both independents align idealogically with Democrats)"
   ]
  },
  {
   "cell_type": "markdown",
   "id": "ad3cec54-e086-4fad-99d5-8a105523c8b8",
   "metadata": {},
   "source": [
    "### Rollcall Metadata\n",
    "Read in rollcall votes JSON which contains the metadata for each rollnumber vote. Trim dataframe to columns:\n",
    "- date: Date of vote\n",
    "- rollnumber: Numerical identifier of vote for the Senate chamber of the 113th Congress\n",
    "- bill_number: Formal bill identifier\n",
    "- vote_result: Vote outcome\n",
    "- vote_desc: Vote description\n",
    "- clause_codes: Code to categorize content of vote"
   ]
  },
  {
   "cell_type": "code",
   "execution_count": null,
   "id": "50bf2dbf-76aa-4870-9642-a3db21f291e4",
   "metadata": {},
   "outputs": [],
   "source": [
    "# https://voteview.com/static/data/out/rollcalls/S113_rollcalls.json\n",
    "s113_rollcalls_raw_df = pd.read_json('S113_rollcalls.json')"
   ]
  },
  {
   "cell_type": "code",
   "execution_count": null,
   "id": "37bdf5d7-9e30-4f6d-8137-43febf0d7482",
   "metadata": {},
   "outputs": [],
   "source": [
    "# len is 657, is 657 votes\n",
    "len(s113_rollcalls_raw_df[[]])\n",
    "s113_rollcalls_sel_df = s113_rollcalls_raw_df[['date', 'rollnumber', 'bill_number', 'vote_result', 'vote_desc', 'clausen_codes']]\n",
    "s113_rollcalls_sel_df['rollnumber'] = s113_rollcalls_sel_df['rollnumber'].astype(str)\n",
    "s113_rollcalls_sel_df['date'] = s113_rollcalls_sel_df['date'].astype(str)\n",
    "s113_rollcalls_sel_df.head()\n",
    "# date, rollnumber, bill_number, vote_result, vote_desc, clausen_codes"
   ]
  },
  {
   "cell_type": "markdown",
   "id": "910094bd-a7cf-49d0-8b74-045d43132fa9",
   "metadata": {},
   "source": [
    "Convert Clausen codes list to dummy variables and append to dataframe"
   ]
  },
  {
   "cell_type": "code",
   "execution_count": null,
   "id": "b0929ef2-2095-46e2-97e9-7dc9f1483c0d",
   "metadata": {},
   "outputs": [],
   "source": [
    "claus_codes = pd.get_dummies(s113_rollcalls_sel_df['clausen_codes'].explode()).sum(level=0)\n",
    "claus_codes.columns = ['cc_agr','cc_civ_lib','cc_for_def','cc_gov_mgmt','cc_misc','cc_soc_wel']\n",
    "claus_codes"
   ]
  },
  {
   "cell_type": "code",
   "execution_count": null,
   "id": "b547d357-71cf-4d4f-9859-04b671ae9ff7",
   "metadata": {
    "tags": []
   },
   "outputs": [],
   "source": [
    "s113_rollcalls_sel_df = s113_rollcalls_sel_df.reset_index(drop=True).join(claus_codes)\n",
    "s113_rollcalls_sel_df = s113_rollcalls_sel_df.drop(columns=['clausen_codes'])\n",
    "s113_rollcalls_sel_df.head()"
   ]
  },
  {
   "cell_type": "markdown",
   "id": "2ddfb1af-198c-4bf8-9c26-eabeb3a0b88b",
   "metadata": {},
   "source": [
    "### Clausen Categories\n",
    "\n",
    "The Clausen codes broadly define each bill according to the categories defined below.\n",
    "\n",
    "- Government Management: Environmental control; government regulation of business; natural resource management; government ownership of business; government control of the economy; budget balancing; tax policy; interest rates; management of the bureaucracy; etc.\n",
    "- Social Welfare: Social security; public housing; urban renewal; labor regulation; education; urban affairs; employment opportunities and rewards; welfare; medicare; unemployment; minimum wage; legal services; immigration, etc.\n",
    "- Agriculture: Price supports and subsidies; commodity control; acreage limitations; etc.\n",
    "- Civil Liberties: Civil rights; equality; criminal procedure; privacy; guarantees of the Bill of Rights; slavery; Hatch Act; etc.\n",
    "- Foreign and Defense Policy: International policy; foreign aid; aid to international organizations; armament policy; defense procurement; international trade; military pensions; etc.\n",
    "- Miscellaneous Policy: Unclassifiable or unidentifiable votes; all votes concerned with internal organization of Congress; procedural motions.\n",
    "\n",
    "From: https://voteview.com/articles/issue_codes"
   ]
  },
  {
   "cell_type": "markdown",
   "id": "a1f3ab52-8145-498e-9923-bdaa8b6b3876",
   "metadata": {},
   "source": [
    "### Senate Bills\n",
    "Focus on only the Senate bills, thus filter votes that match the pattern of $bill\\_number$ with 'S' followed by a number."
   ]
  },
  {
   "cell_type": "code",
   "execution_count": null,
   "id": "cdd08602-444d-47b6-adc4-b7c336648744",
   "metadata": {},
   "outputs": [],
   "source": [
    "bill_numbers = s113_rollcalls_sel_df['bill_number']\n",
    "bill_numbers = list(bill_numbers)\n",
    "bill_numbers = [str(x) for x in bill_numbers]\n",
    "#bill_numbers"
   ]
  },
  {
   "cell_type": "code",
   "execution_count": null,
   "id": "020846f9-a2ee-4163-b9d4-39cf9a76715c",
   "metadata": {},
   "outputs": [],
   "source": [
    "# Regex to get those starting with S and a Number\n",
    "import re\n",
    "regex_sen_bill = re.compile(r'^S\\d')\n",
    "senate_bills = list(filter(regex_sen_bill.match, bill_numbers)) # Read Note below\n",
    "#(senate_bills)"
   ]
  },
  {
   "cell_type": "markdown",
   "id": "94c9b6e8-63dc-418d-9e76-5ae118a13ce6",
   "metadata": {},
   "source": [
    "Create dictionary of key $bill\\_number$ and value $rollnumber$."
   ]
  },
  {
   "cell_type": "code",
   "execution_count": null,
   "id": "fac1a0dc-2982-44ed-b63d-02ebb754719f",
   "metadata": {},
   "outputs": [],
   "source": [
    "senate_rollcall_dict = dict(zip(s113_rollcalls_sel_df.bill_number, s113_rollcalls_sel_df.rollnumber))\n",
    "#senate_rollcall_dict"
   ]
  },
  {
   "cell_type": "markdown",
   "id": "80b24482-b807-4e25-88cd-84ea3f2ee30b",
   "metadata": {},
   "source": [
    "Create dictionary of $bill\\_number$ and $vote\\_result$."
   ]
  },
  {
   "cell_type": "code",
   "execution_count": null,
   "id": "10e17cbd-cae7-47c0-a3e8-3a6ca0372305",
   "metadata": {
    "tags": []
   },
   "outputs": [],
   "source": [
    "senate_vote_result_dict = dict(zip(s113_rollcalls_raw_df.bill_number, s113_rollcalls_raw_df.vote_result))"
   ]
  },
  {
   "cell_type": "markdown",
   "id": "6e784aa6-bd01-4a97-826c-dba4b7d972b6",
   "metadata": {},
   "source": [
    "Create dictionary of key $bill\\_number$ and $vote\\_result$ for just the Senate bills."
   ]
  },
  {
   "cell_type": "code",
   "execution_count": null,
   "id": "67ad70f9-a58a-43bc-900a-86f4987d5557",
   "metadata": {},
   "outputs": [],
   "source": [
    "senate_bills_result_dict = dict((k, senate_vote_result_dict[k]) for k in senate_bills if k in senate_vote_result_dict)\n",
    "#senate_bills_result_dict\n",
    "# Luckily this creation of a dictionary does seem to be using the last entry and thus the final vote"
   ]
  },
  {
   "cell_type": "markdown",
   "id": "74a3d4a2-874a-4648-94f2-d573cf71f83e",
   "metadata": {},
   "source": [
    "Create a dictionary of key $bill\\_number$ and $rollnumber$ for just the Senate bills."
   ]
  },
  {
   "cell_type": "code",
   "execution_count": null,
   "id": "b31d58b9-7d91-42a4-a47e-5d68cab55d25",
   "metadata": {},
   "outputs": [],
   "source": [
    "senate_bills_dict = dict((k, senate_rollcall_dict[k]) for k in senate_bills if k in senate_rollcall_dict)\n",
    "#senate_bills_dict"
   ]
  },
  {
   "cell_type": "markdown",
   "id": "4fb638f7-210d-478d-a699-5aa306111285",
   "metadata": {},
   "source": [
    "Convert dictionary into array of $rollnumber$ for Senate Bills"
   ]
  },
  {
   "cell_type": "code",
   "execution_count": null,
   "id": "da8bc32d-8628-4c1a-be43-b973ed75f5c5",
   "metadata": {
    "tags": []
   },
   "outputs": [],
   "source": [
    "rollnumber_list = senate_bills_dict.values()\n",
    "rollnumber_list = list(rollnumber_list)\n",
    "#rollnumber_list"
   ]
  },
  {
   "cell_type": "markdown",
   "id": "9c42b940-c451-47a0-87f0-8724265f0b51",
   "metadata": {},
   "source": [
    "Trim dataframe to just Senate bills with metadata based on list of $rollnumber$ for Senate bills"
   ]
  },
  {
   "cell_type": "code",
   "execution_count": null,
   "id": "68703108-a83c-49d1-a354-8d6a36de7abd",
   "metadata": {},
   "outputs": [],
   "source": [
    "senate_bills_df = s113_rollcalls_sel_df[s113_rollcalls_sel_df['rollnumber'].isin(rollnumber_list)]\n",
    "senate_bills_df.head()"
   ]
  },
  {
   "cell_type": "markdown",
   "id": "6f77be6e-0400-4e4a-b47a-f24de07822ba",
   "metadata": {},
   "source": [
    "Check language of all possible $vote\\_result$ values to be able to identify affirmation or rejection."
   ]
  },
  {
   "cell_type": "code",
   "execution_count": null,
   "id": "248a464d-1b7e-4eda-a723-aedc2e24b26d",
   "metadata": {
    "tags": []
   },
   "outputs": [],
   "source": [
    "s113_rollcalls_sel_df['vote_result'].unique()"
   ]
  },
  {
   "cell_type": "markdown",
   "id": "ffbdfd47-0f46-4183-b927-b2ad4efede4c",
   "metadata": {},
   "source": [
    "Votes resulting in affirmation will contain one of the following:\n",
    "- 'Agreed'\n",
    "- 'Passed'\n",
    "- 'Confirmed'\n",
    "- 'Decision of Chair Sustained'\n",
    "\n",
    "Votes resulting in rejection will contain one of the following:\n",
    "- 'Rejected'\n",
    "- 'Failed'\n",
    "- 'Defeated'\n",
    "- 'Not Well Taken'\n",
    "- 'Decision of Chair Not Sustained'"
   ]
  },
  {
   "cell_type": "markdown",
   "id": "36aa3981-2a53-41ec-8937-89f800521e86",
   "metadata": {},
   "source": [
    "Create Boolean column $passed$ based on the $vote\\_result$ column values."
   ]
  },
  {
   "cell_type": "code",
   "execution_count": null,
   "id": "eaa76e8f-926b-4d94-b708-d76351c456f2",
   "metadata": {},
   "outputs": [],
   "source": [
    "passed_list = ['Agreed','Passed','Confirmed', 'Decision of Chair Sustained']\n",
    "def bill_passed(row):\n",
    "    result = 0\n",
    "    if any(word in row['vote_result'] for word in passed_list):\n",
    "        result=1\n",
    "    return result\n",
    "senate_bills_df['passed'] = senate_bills_df.apply(bill_passed, axis=1)\n",
    "senate_bills_df.head()"
   ]
  },
  {
   "cell_type": "markdown",
   "id": "9c53f561-dce1-4dd1-b491-8e1ac0233fd4",
   "metadata": {},
   "source": [
    "Trim the dataframe of individual votes cast to just the Senate bills by $rollnumber$."
   ]
  },
  {
   "cell_type": "code",
   "execution_count": null,
   "id": "b3c023ac-9896-4d5d-86b4-7586ec5e202a",
   "metadata": {},
   "outputs": [],
   "source": [
    "senate_bill_votes_df = s113_votes_sel_df[s113_votes_sel_df['rollnumber'].isin(rollnumber_list)]\n",
    "senate_bill_votes_df"
   ]
  },
  {
   "cell_type": "markdown",
   "id": "b228f9d3-8a82-46c6-87db-a0849857e508",
   "metadata": {},
   "source": [
    "Senator 14920 is not contained the above dataframe. This absence is due to the fact that this Senator never voted on a Senate bill of the 113th Congress. Senator 14920 is John Kerry, who became Secretary of State early in 2013 at the start of Obama's second Presidential term."
   ]
  },
  {
   "cell_type": "markdown",
   "id": "f766c2ba-d27d-417f-a31b-32d9ca249531",
   "metadata": {},
   "source": [
    "### Bipartite Graph Construction\n",
    "\n",
    "Create a bipartite graph of Senator nodes and Senate bill nodes."
   ]
  },
  {
   "cell_type": "markdown",
   "id": "f091edfc-c834-4534-a34c-673f4fba2b80",
   "metadata": {},
   "source": [
    "First, create Senator nodes with $icpsr$ as the key value, bipartite value as '0' along with name, party, state, and NOMINATE dimension."
   ]
  },
  {
   "cell_type": "code",
   "execution_count": null,
   "id": "307e38c0-773a-4770-9ef0-c99c7a2dbeaf",
   "metadata": {},
   "outputs": [],
   "source": [
    "G = nx.Graph()\n",
    "\n",
    "for index, sen in s113_members_sel_df.iterrows():\n",
    "    G.add_node(sen.icpsr, bipartite=0, \n",
    "               name=sen.bioname,\n",
    "               party=sen.party_code,\n",
    "               state=sen.state_abbrev,\n",
    "               nom_dim=sen.nominate_dim1)\n",
    "    \n",
    "len(G.nodes())"
   ]
  },
  {
   "cell_type": "markdown",
   "id": "cf4a0707-4e3c-4c78-839a-5f0380e53a8c",
   "metadata": {},
   "source": [
    "Create the Senate bill nodes with rollnumber as the key value, bipartite value as '1' along with bill date, formal bill number, passed result, description, and dummy variables for the Clausen codes."
   ]
  },
  {
   "cell_type": "code",
   "execution_count": null,
   "id": "352df1ce-6521-44d3-8635-4e8c67ccb711",
   "metadata": {},
   "outputs": [],
   "source": [
    "for index, bill in senate_bills_df.iterrows():\n",
    "    G.add_node(bill.rollnumber, bipartite=1,\n",
    "               date=bill.date,\n",
    "               bill_number=bill.bill_number,\n",
    "               passed=bill.passed,\n",
    "               desc=bill.vote_desc,\n",
    "               cc_agr=bill.cc_agr,\n",
    "               cc_civ_lib=bill.cc_civ_lib, \n",
    "               cc_for_def=bill.cc_for_def,\n",
    "               cc_gov_mgmt=bill.cc_gov_mgmt,\n",
    "               cc_misc=bill.cc_misc,\n",
    "               cc_soc_wel=bill.cc_soc_wel)\n",
    "len(G.nodes())"
   ]
  },
  {
   "cell_type": "markdown",
   "id": "af3868ad-8207-45bb-b06b-f6573d3fa730",
   "metadata": {},
   "source": [
    "Separate the nodes into two unique sets: Senators and Senate bill votes."
   ]
  },
  {
   "cell_type": "code",
   "execution_count": null,
   "id": "81b1bfe0-4caf-4eb4-b43d-72b1e7990edd",
   "metadata": {},
   "outputs": [],
   "source": [
    "senator_nodes = {n for n, d in G.nodes(data=True) if d[\"bipartite\"] == 0}\n",
    "vote_nodes = set(G) - senator_nodes"
   ]
  },
  {
   "cell_type": "code",
   "execution_count": null,
   "id": "8b992bba-ff16-4dfd-b70a-d016d2f98277",
   "metadata": {
    "tags": []
   },
   "outputs": [],
   "source": [
    "len(senator_nodes)"
   ]
  },
  {
   "cell_type": "code",
   "execution_count": null,
   "id": "4a102056-eb1c-41a5-8362-10edc1e26712",
   "metadata": {},
   "outputs": [],
   "source": [
    "len(vote_nodes)"
   ]
  },
  {
   "cell_type": "markdown",
   "id": "90729cfd-c0e4-4f57-92f1-448370248b7f",
   "metadata": {},
   "source": [
    "Create the edges for each $cast\\_code$ between a Senator and a bill."
   ]
  },
  {
   "cell_type": "code",
   "execution_count": null,
   "id": "019feba1-fc23-4ee3-a747-20eb0351bb19",
   "metadata": {},
   "outputs": [],
   "source": [
    "for index, row in senate_bill_votes_df.iterrows():\n",
    "    G.add_edge(row.icpsr, row.rollnumber, vote=row.cast_code)"
   ]
  },
  {
   "cell_type": "code",
   "execution_count": null,
   "id": "a33982f3-6964-46c0-8aa9-a5cfbfafc26b",
   "metadata": {},
   "outputs": [],
   "source": [
    "(len(G.nodes()), len(G.edges()))"
   ]
  },
  {
   "cell_type": "markdown",
   "id": "a1e14ac1-8880-4cc2-83f8-0ab464aa07bc",
   "metadata": {},
   "source": [
    "Check if the graph is connected."
   ]
  },
  {
   "cell_type": "code",
   "execution_count": null,
   "id": "7c717e91-5bee-463d-9b73-b16043fc0f49",
   "metadata": {
    "tags": []
   },
   "outputs": [],
   "source": [
    "nx.is_connected(G)"
   ]
  },
  {
   "cell_type": "markdown",
   "id": "f8a933c8-d445-4fa2-891e-e4583eb80094",
   "metadata": {},
   "source": [
    "The graph is not connected because $icpsr$ of 14920 (John Kerry) did not vote on any Senate bills as noted above."
   ]
  },
  {
   "cell_type": "markdown",
   "id": "148b42ed-6d5b-4c5f-b1af-0e4c0ec92502",
   "metadata": {},
   "source": [
    "Retrieve the largest connected component subgraph, which contains the other 104 senators and the 36 Senate bills."
   ]
  },
  {
   "cell_type": "code",
   "execution_count": null,
   "id": "e2045321-a3fd-4da4-87df-a98307d4ef43",
   "metadata": {
    "tags": []
   },
   "outputs": [],
   "source": [
    "graphs = list(nx.connected_component_subgraphs(G))\n",
    "g_s113 = graphs[0]\n",
    "len(g_s113.nodes())"
   ]
  },
  {
   "cell_type": "markdown",
   "id": "9ec494eb-45dd-4849-9e44-7ba10a1dadd0",
   "metadata": {},
   "source": [
    "Define a function to create a label map for the Networkx graph object. The name is used to label the Senator nodes, and the bill number is used to label the bill nodes."
   ]
  },
  {
   "cell_type": "code",
   "execution_count": null,
   "id": "e4d72906-413e-4f89-bb1a-c7272a32a497",
   "metadata": {},
   "outputs": [],
   "source": [
    "my_labels = [ v[1]['name'] if v[1]['bipartite']==0 else v[1]['bill_number'] for v in g_s113.nodes(data=True)]\n",
    "len(my_labels)\n",
    "label_map = { g_s113.nodes()[i] : my_labels[i] for i in range(len(g_s113.nodes())) }\n",
    "\n",
    "def generateLabelMapForNodes(graph):\n",
    "    my_labels = [ v[1]['name'] if v[1]['bipartite']==0 else v[1]['bill_number'] for v in graph.nodes(data=True)]\n",
    "    len(my_labels)\n",
    "    label_map = { graph.nodes()[i] : my_labels[i] for i in range(len(graph.nodes())) }\n",
    "    return label_map"
   ]
  },
  {
   "cell_type": "markdown",
   "id": "cd265a21-c1a2-4cee-8680-bbff13b48d4e",
   "metadata": {},
   "source": [
    "Define a function to create a color map for the nodes of the Networkx graph object. Nodes are colored according to the following rules.\n",
    "\n",
    "- Democrats and Independents: Blue\n",
    "- Republicans: Red\n",
    "- Bills with final vote in the affirmative: Green\n",
    "- Bills with final vote in rejection: Orange"
   ]
  },
  {
   "cell_type": "code",
   "execution_count": null,
   "id": "0de886bd-6902-4117-8772-86ca16aad861",
   "metadata": {},
   "outputs": [],
   "source": [
    "# Assign node colors\n",
    "\n",
    "my_node_color = [ ]\n",
    "\n",
    "for node in g_s113.nodes(data=True):\n",
    "    if node[1]['bipartite'] == 0: # Senator\n",
    "        if node[1]['party'] == '100' or node[1]['party'] == '328': # Democrat\n",
    "            my_node_color.append('blue')\n",
    "        else: # Republican\n",
    "            my_node_color.append('red')\n",
    "    else: # Bill\n",
    "        if node[1]['passed'] == 1: # Passed\n",
    "            my_node_color.append('green')\n",
    "        else: # Not Passed\n",
    "            my_node_color.append('orange')\n",
    "            \n",
    "def generateColorMapForNodes(graph):\n",
    "    my_node_color = [ ]\n",
    "\n",
    "    for node in graph.nodes(data=True):\n",
    "        if node[1]['bipartite'] == 0: # Senator\n",
    "            if node[1]['party'] == '100' or node[1]['party'] == '328': # Democrate\n",
    "                my_node_color.append('blue')\n",
    "            else: # Republican\n",
    "                my_node_color.append('red')\n",
    "        else: # Bill\n",
    "            if node[1]['passed'] == 1: # Passed\n",
    "                my_node_color.append('green')\n",
    "            else: # Not Passed\n",
    "                my_node_color.append('orange')\n",
    "    return my_node_color"
   ]
  },
  {
   "cell_type": "markdown",
   "id": "d3b7cf9a-642e-41f5-9ee4-dc8698c77baf",
   "metadata": {},
   "source": [
    "Define function to create a color map for the edges of the Networkx graph object. Vote edges are colored according to the following rules.\n",
    "\n",
    "- 'Yea': Green\n",
    "- 'Nay': Orange\n",
    "- Other vote: Gray"
   ]
  },
  {
   "cell_type": "code",
   "execution_count": null,
   "id": "833b809d-7faa-4def-86e4-5ca574c86888",
   "metadata": {},
   "outputs": [],
   "source": [
    "# Assign edge colors based on vote attribute.\n",
    "\n",
    "my_edge_color = [ ]\n",
    "\n",
    "for ed in g_s113.edges(data=True):\n",
    "    if ed[2]['vote'] == '1':\n",
    "        my_edge_color.append('green')\n",
    "    elif ed[2]['vote'] == '6':\n",
    "        my_edge_color.append('orange')\n",
    "    else:\n",
    "        my_edge_color.append('gray')\n",
    "\n",
    "def generateColorMapForEdges(graph):\n",
    "    my_edge_color = [ ]\n",
    "\n",
    "    for ed in graph.edges(data=True):\n",
    "        if ed[2]['vote'] == '1':\n",
    "            my_edge_color.append('green')\n",
    "        elif ed[2]['vote'] == '6':\n",
    "            my_edge_color.append('orange')\n",
    "        else:\n",
    "            my_edge_color.append('gray')\n",
    "    return my_edge_color"
   ]
  },
  {
   "cell_type": "markdown",
   "id": "10ac614d-6c8d-4d69-875d-6ba7e6d393a0",
   "metadata": {},
   "source": [
    "Separate the nodes into three sets: Republican nodes, Democrat nodes, and Senate bill nodes in order to properly position the nodes for display of the bipartite graph in three columns."
   ]
  },
  {
   "cell_type": "code",
   "execution_count": null,
   "id": "08f1a341-051c-4ec0-9c92-6fa86d31a203",
   "metadata": {},
   "outputs": [],
   "source": [
    "# Assign the position\n",
    "\n",
    "# Separate into 3 sets\n",
    "senator_nodes = {n for n, d in g_s113.nodes(data=True) if d[\"bipartite\"] == 0}\n",
    "vote_nodes = set(g_s113) - senator_nodes\n",
    "rep_nodes = {n for n, d in g_s113.nodes(data=True) if d[\"bipartite\"] == 0 and d[\"party\"] == '200'}\n",
    "dem_nodes = {n for n, d in g_s113.nodes(data=True) if d[\"bipartite\"] == 0 and (d[\"party\"] == '100' or d[\"party\"] == '328')}"
   ]
  },
  {
   "cell_type": "markdown",
   "id": "5c98b593-f54f-43d2-a771-26410af38b06",
   "metadata": {},
   "source": [
    "Assign the x-axis of the position based on the set of the node."
   ]
  },
  {
   "cell_type": "code",
   "execution_count": null,
   "id": "a31b14af-8455-4167-9d46-8cf3b00df0fa",
   "metadata": {},
   "outputs": [],
   "source": [
    "# Separate by group\n",
    "pos = {}\n",
    "\n",
    "# Update position for node from each group\n",
    "pos.update((node, (1, index)) for index, node in enumerate(dem_nodes))\n",
    "pos.update((node, (2, index)) for index, node in enumerate(vote_nodes))\n",
    "pos.update((node, (3, index)) for index, node in enumerate(rep_nodes))"
   ]
  },
  {
   "cell_type": "markdown",
   "id": "05adac50-235f-4d41-b1e9-081f57b9278f",
   "metadata": {},
   "source": [
    "Assign the x-axis of the position based on the NOMINATE dimension of each node."
   ]
  },
  {
   "cell_type": "code",
   "execution_count": null,
   "id": "f7f1af96-1855-47cf-a19a-ddd2de9e4c74",
   "metadata": {},
   "outputs": [],
   "source": [
    "# Separate by group\n",
    "pos_nom_dim = {}\n",
    "\n",
    "# Update position for node from each group\n",
    "pos_nom_dim.update((node, (s113_members_sel_df.loc[s113_members_sel_df['icpsr'] == node, 'nominate_dim1'].item(), index)) for index, node in enumerate(dem_nodes))\n",
    "pos_nom_dim.update((node, (0, index+11)) for index, node in enumerate(vote_nodes))\n",
    "pos_nom_dim.update((node, (s113_members_sel_df.loc[s113_members_sel_df['icpsr'] == node, 'nominate_dim1'].item(), index+6)) for index, node in enumerate(rep_nodes))"
   ]
  },
  {
   "cell_type": "markdown",
   "id": "4ba0cc04-af68-4dd8-8259-2de150130b8f",
   "metadata": {},
   "source": [
    "Confirm the graph is connected."
   ]
  },
  {
   "cell_type": "code",
   "execution_count": null,
   "id": "38520710-a5a0-4c88-93b3-0edf1573c1d0",
   "metadata": {},
   "outputs": [],
   "source": [
    "# graph[0] has all the nodes and edges\n",
    "nx.is_connected(g_s113)"
   ]
  },
  {
   "cell_type": "markdown",
   "id": "b2c7abd8-60ea-4b7e-93d0-302acf393adf",
   "metadata": {},
   "source": [
    "### Bipartite Graph: All Senators and Bills\n",
    "Plot the graph of all the nodes, all the edges and x-axis value based on the NOMINATE dimension."
   ]
  },
  {
   "cell_type": "code",
   "execution_count": null,
   "id": "e8ab4f2a-d465-467e-bad5-dee11e048d71",
   "metadata": {},
   "outputs": [],
   "source": [
    "plt.figure(figsize = (16, 40))\n",
    "plt.tight_layout()\n",
    "plt.axis(\"off\")\n",
    "nx.draw_networkx(g_s113, \n",
    "                 node_color = my_node_color,\n",
    "                 edge_color = my_edge_color,\n",
    "                 labels = label_map,\n",
    "                 pos = pos)"
   ]
  },
  {
   "cell_type": "markdown",
   "id": "61c53265-a78c-4693-8d35-6ba109a21dca",
   "metadata": {},
   "source": [
    "The above plot shows the Democrats on the left, Republicans on the right, Senate bills in the middle\n",
    "- Final bill votes in the affirmative are colored green\n",
    "- Final bill votes in rejection are colored orange\n",
    "- Edges represent the votes by the Senators\n",
    "\n",
    "As expected for a Congress with a majority of Democrats, the bills that come to a vote (out of commiittee) are likely to be Democrat-friendly and thus a majority of the voting reflects the partisan divide with green 'Yea' votes by Democrats and orange 'Nay' votes by Republicans."
   ]
  },
  {
   "cell_type": "markdown",
   "id": "3acfd759-cbbb-4906-8f38-5511281d4e78",
   "metadata": {},
   "source": [
    "Write graph object to .graphml for inspection with Gephi."
   ]
  },
  {
   "cell_type": "code",
   "execution_count": null,
   "id": "8fbf95b5-cff9-4bd0-b1fd-ff01282e36a7",
   "metadata": {},
   "outputs": [],
   "source": [
    "graphml_file = \"S113_voting.graphml\"\n",
    "nx.write_graphml( g_s113, graphml_file )"
   ]
  },
  {
   "cell_type": "markdown",
   "id": "ca95c1fb-3d1d-4198-a90d-a8aa13aa56c4",
   "metadata": {},
   "source": [
    "Next, we remove all 'Nay' votes to see if a clearer pattern emerges with just the 'Yea' votes."
   ]
  },
  {
   "cell_type": "code",
   "execution_count": null,
   "id": "32ea0bf0-0f31-4722-9523-757eb3ab6da1",
   "metadata": {},
   "outputs": [],
   "source": [
    "dict_edge = nx.get_edge_attributes(g_s113, \"vote\")\n",
    "dict_edge_remove = {key:val for key, val in dict_edge.items() if val == '6'}"
   ]
  },
  {
   "cell_type": "code",
   "execution_count": null,
   "id": "0135fb9f-eb62-46bc-956b-f03c041e83ff",
   "metadata": {},
   "outputs": [],
   "source": [
    "g_s113_yes_edges = g_s113\n",
    "g_s113_yes_edges.remove_edges_from(list(dict_edge_remove))"
   ]
  },
  {
   "cell_type": "code",
   "execution_count": null,
   "id": "b5d22bbc-a40f-4168-b29f-8c4a6a8e6da7",
   "metadata": {},
   "outputs": [],
   "source": [
    "# Update map of edges\n",
    "edge_map = generateColorMapForEdges(g_s113_yes_edges)"
   ]
  },
  {
   "cell_type": "markdown",
   "id": "0777ced7-6f69-42e7-91fa-afe8c455d530",
   "metadata": {},
   "source": [
    "### Bipartite Graph: Only Yea Votes"
   ]
  },
  {
   "cell_type": "code",
   "execution_count": null,
   "id": "b603881f-a495-465e-974c-42c5e5ea10e9",
   "metadata": {},
   "outputs": [],
   "source": [
    "plt.figure(figsize = (16, 40))\n",
    "plt.tight_layout()\n",
    "plt.axis(\"off\")\n",
    "nx.draw_networkx(g_s113_yes_edges, \n",
    "                 node_color = my_node_color,\n",
    "                 edge_color = edge_map,\n",
    "                 labels = label_map,\n",
    "                 pos = pos)"
   ]
  },
  {
   "cell_type": "markdown",
   "id": "5ba19681-5ab6-4caa-bc0c-56ea852985f8",
   "metadata": {},
   "source": [
    "By removing the 'Nay' votes, we do see some bills with predominantly 'Yea' votes by Republicans. The left side of the plot does indicate a much higher volume of 'Yea' votes by Democrats."
   ]
  },
  {
   "cell_type": "markdown",
   "id": "3e694836-8e79-40b1-8693-61d02264b43a",
   "metadata": {},
   "source": [
    "### Bipartite Graph: Only Nay Votes\n",
    "Now, let's inverse the above and only display 'Nay' votes."
   ]
  },
  {
   "cell_type": "code",
   "execution_count": null,
   "id": "d50a2d23-89d4-4317-8cb0-a827ba32c6c4",
   "metadata": {},
   "outputs": [],
   "source": [
    "dict_edge = nx.get_edge_attributes(g_s113, \"vote\")\n",
    "dict_edge_remove = {key:val for key, val in dict_edge.items() if val == '1'}"
   ]
  },
  {
   "cell_type": "code",
   "execution_count": null,
   "id": "ad1fb3f7-b037-42a3-83a6-5559653578aa",
   "metadata": {},
   "outputs": [],
   "source": [
    "# Reset g_s113 graph\n",
    "graphs = list(nx.connected_component_subgraphs(G))\n",
    "g_s113 = graphs[0]\n",
    "g_s113_no_edges = g_s113\n",
    "g_s113_no_edges.remove_edges_from(list(dict_edge_remove))"
   ]
  },
  {
   "cell_type": "code",
   "execution_count": null,
   "id": "db3c012e-d03f-4fe4-8cdf-8ff2ae68775f",
   "metadata": {},
   "outputs": [],
   "source": [
    "# Update map of edges\n",
    "edge_map = generateColorMapForEdges(g_s113_no_edges)"
   ]
  },
  {
   "cell_type": "code",
   "execution_count": null,
   "id": "ca3ce918-a193-491a-a481-f97594ce6b0a",
   "metadata": {},
   "outputs": [],
   "source": [
    "plt.figure(figsize = (16, 40))\n",
    "plt.tight_layout()\n",
    "plt.axis(\"off\")\n",
    "nx.draw_networkx(g_s113_no_edges, \n",
    "                 node_color = my_node_color,\n",
    "                 edge_color = edge_map,\n",
    "                 labels = label_map,\n",
    "                 pos = pos)"
   ]
  },
  {
   "cell_type": "markdown",
   "id": "be51352e-811d-4e30-b132-0a7e4ccb9372",
   "metadata": {},
   "source": [
    "We do see the majority of 'Nay' votes are cast by Republicans and three final bill votes receive a high number of 'Nay' votes by Democreats. (S16, S2280, S1003). The voting does fall predominantly along party lines and consistent with a Democratic majority but some bill votes indicate exceptions to that assumption."
   ]
  },
  {
   "cell_type": "markdown",
   "id": "13eb2599-c5b3-4726-b327-84f6c11eb5a2",
   "metadata": {},
   "source": [
    "### Bipartite Graph: Bills with Affirmative Final Vote\n",
    "\n",
    "For the 113th Congress, only 10 Senate bills were passed by the Senate. A final affirmative vote does not indicate the bill was passed and signed into law.\n",
    "\n",
    "Now, let's show just the bills with final votes in the affirmative."
   ]
  },
  {
   "cell_type": "code",
   "execution_count": null,
   "id": "686c22cd-d3c4-4ce1-ac16-c458c31ce6d9",
   "metadata": {},
   "outputs": [],
   "source": [
    "# Reset g_s113 graph\n",
    "graphs = list(nx.connected_component_subgraphs(G))\n",
    "g_s113 = graphs[0]\n",
    "# Get all the nodes with Passed = 0\n",
    "bills_not_passed_nodes = {n for n, d in g_s113.nodes(data=True) if d[\"bipartite\"] == 1 and d['passed'] == 0}\n",
    "# Get all the edges connected to Removed Nodes\n",
    "edges_to_remove = nx.edges(g_s113, bills_not_passed_nodes)\n",
    "# Remove those nodes from the Graph\n",
    "g_s113_passed_bills = g_s113\n",
    "g_s113_passed_bills.remove_nodes_from(bills_not_passed_nodes)\n",
    "# Remove those edges\n",
    "g_s113_passed_bills.remove_edges_from(edges_to_remove)\n",
    "# EdgeColorMap\n",
    "node_map = generateColorMapForNodes(g_s113_passed_bills)\n",
    "edge_map = generateColorMapForEdges(g_s113_passed_bills)\n",
    "label_map = generateLabelMapForNodes(g_s113_passed_bills)"
   ]
  },
  {
   "cell_type": "code",
   "execution_count": null,
   "id": "9f898f1e-92fe-4a88-8a57-938bdea978cd",
   "metadata": {},
   "outputs": [],
   "source": [
    "# Plot\n",
    "plt.figure(figsize = (16, 40))\n",
    "plt.tight_layout()\n",
    "plt.axis(\"off\")\n",
    "nx.draw_networkx(g_s113_passed_bills, \n",
    "                 node_color = node_map,\n",
    "                 edge_color = edge_map,\n",
    "                 labels = label_map,\n",
    "                 pos = pos)"
   ]
  },
  {
   "cell_type": "markdown",
   "id": "c1dae0bf-d330-4c44-ac09-1b68bb1b8f2f",
   "metadata": {},
   "source": [
    "Of the 36 Senate bills in the 113th Congress, only 16 bills received an affirmative final vote. For those with a final affirmative vote, each one garnered high Democratic support."
   ]
  },
  {
   "cell_type": "markdown",
   "id": "1f43191f-f3ed-4ca1-bec9-d94347e64119",
   "metadata": {},
   "source": [
    "### Bipartite Graph: Bills with Negative Final Vote\n",
    "\n",
    "Now, only bills that received a negative final vote."
   ]
  },
  {
   "cell_type": "code",
   "execution_count": null,
   "id": "4c305823-6eb2-427c-9b8f-e510cae8622b",
   "metadata": {},
   "outputs": [],
   "source": [
    "# Reset g_s113 graph\n",
    "graphs = list(nx.connected_component_subgraphs(G))\n",
    "g_s113 = graphs[0]\n",
    "# Get all the nodes with Passed = 0\n",
    "bills_passed_nodes = {n for n, d in g_s113.nodes(data=True) if d[\"bipartite\"] == 1 and d['passed'] == 1}\n",
    "# Get all the edges connected to Removed Nodes\n",
    "edges_to_remove = nx.edges(g_s113, bills_passed_nodes)\n",
    "# Remove those nodes from the Graph\n",
    "g_s113_not_passed_bills = g_s113\n",
    "g_s113_not_passed_bills.remove_nodes_from(bills_passed_nodes)\n",
    "# Remove those edges\n",
    "g_s113_not_passed_bills.remove_edges_from(edges_to_remove)\n",
    "# EdgeColorMap\n",
    "node_map = generateColorMapForNodes(g_s113_not_passed_bills)\n",
    "edge_map = generateColorMapForEdges(g_s113_not_passed_bills)\n",
    "label_map = generateLabelMapForNodes(g_s113_not_passed_bills)"
   ]
  },
  {
   "cell_type": "code",
   "execution_count": null,
   "id": "b14540b5-36f3-4215-a236-30241a2037d7",
   "metadata": {},
   "outputs": [],
   "source": [
    "# Plot\n",
    "plt.figure(figsize = (16, 40))\n",
    "plt.tight_layout()\n",
    "plt.axis(\"off\")\n",
    "nx.draw_networkx(g_s113_not_passed_bills, \n",
    "                 node_color = node_map,\n",
    "                 edge_color = edge_map,\n",
    "                 labels = label_map,\n",
    "                 pos = pos)"
   ]
  },
  {
   "cell_type": "markdown",
   "id": "0671e335-f15e-415c-a39c-6748fffb61f2",
   "metadata": {},
   "source": [
    "Of the 36 Senate bills, 20 bills received a negative final bill vote. Again, we note that three bills indicate an inverse of expectations: high Republican support and low Democratic support (S16, S1003, S2280)."
   ]
  },
  {
   "cell_type": "markdown",
   "id": "94e122df-ab95-4884-bd92-7f6c6947a370",
   "metadata": {
    "tags": []
   },
   "source": [
    "### Clustering Method on Foreign and Defense Policy Bills\n",
    "\n",
    "To focus the voting analysis even further, we've chosen to separate the Senate bills by Clausen category and then apply the island method on the bills categorized as foreign and defense policy. We wanted to assess the level of polarization on bills often receiving a high level of bipartisan support.\n",
    "\n",
    "The plot below shows all the votes for just the bills categorized as foreign and defense policy. Of the eight bills, only half receive a final affirmative vote. Of the 10 Senate bills passed during the 113th Congress, only one is categorized as foreign and defense policy (S1917). Three bills (S1917, S25, S1963) appear to receive near unanimous approval."
   ]
  },
  {
   "cell_type": "code",
   "execution_count": null,
   "id": "7d9bd6fb-288d-4ba6-b419-da67ad188312",
   "metadata": {
    "tags": []
   },
   "outputs": [],
   "source": [
    "# Reset g_s113 graph\n",
    "graphs = list(nx.connected_component_subgraphs(G))\n",
    "g_s113 = graphs[0]\n",
    "# Get all the nodes with cc_agr = 0, these will be nodes to remove in order to focus on Foreign and Defense Policy\n",
    "nodes_to_remove = {n for n, d in g_s113.nodes(data=True) if d[\"bipartite\"] == 1 and d['cc_for_def'] == 0}\n",
    "# Get all the edges connected to Removed Nodes\n",
    "edges_to_remove = nx.edges(g_s113, nodes_to_remove)\n",
    "# Remove those nodes from the Graph\n",
    "g_s113_bills_cc_agr = g_s113\n",
    "g_s113_bills_cc_agr.remove_nodes_from(nodes_to_remove)\n",
    "# Remove those edges\n",
    "g_s113_bills_cc_agr.remove_edges_from(edges_to_remove)\n",
    "# EdgeColorMap\n",
    "node_map = generateColorMapForNodes(g_s113_bills_cc_agr)\n",
    "edge_map = generateColorMapForEdges(g_s113_bills_cc_agr)\n",
    "label_map = generateLabelMapForNodes(g_s113_bills_cc_agr)\n",
    "\n",
    "# Plot\n",
    "plt.figure(figsize = (16, 40))\n",
    "plt.tight_layout()\n",
    "plt.axis(\"off\")\n",
    "nx.draw_networkx(g_s113_bills_cc_agr, \n",
    "                 node_color = node_map,\n",
    "                 edge_color = edge_map,\n",
    "                 labels = label_map,\n",
    "                 pos = pos)"
   ]
  },
  {
   "cell_type": "markdown",
   "id": "049e2c9f-b97c-431b-bbdd-0a4c644db711",
   "metadata": {},
   "source": [
    "### Graph Construction\n",
    "\n",
    "In order to evaluate the Senator voting patterns and level of polarization based on the foreign and defense policy Senate bills, we separate each bill vote node into two nodes, one node for 'Yea' votes and another for 'Nay' votes. By separating the positive and negative votes, we can assess which Senators share a higher number of common neighbors, otherwise all Senators would share the same common neighbors because every Senators votes on almost every Senate bill as that is their job."
   ]
  },
  {
   "cell_type": "markdown",
   "id": "87208a68-8ec0-42a7-91b7-d964f1123b02",
   "metadata": {},
   "source": [
    "First, add the nodes for each Senator to the graph object. As expected, the result is 105 nodes, one for each Senator."
   ]
  },
  {
   "cell_type": "code",
   "execution_count": null,
   "id": "649fa546-1d2a-4ce6-a394-9d475287193c",
   "metadata": {},
   "outputs": [],
   "source": [
    "G_bills_split = nx.Graph()\n",
    "\n",
    "for index, sen in s113_members_sel_df.iterrows():\n",
    "    G_bills_split.add_node(sen.icpsr, bipartite=0, \n",
    "                           name=sen.bioname,\n",
    "                           party=sen.party_code,\n",
    "                           state=sen.state_abbrev,\n",
    "                           nom_dim=sen.nominate_dim1)\n",
    "    \n",
    "len(G_bills_split.nodes())"
   ]
  },
  {
   "cell_type": "markdown",
   "id": "a7868b03-0ee9-4aa9-b4d7-162c6b4ec91f",
   "metadata": {},
   "source": [
    "Next, we add a node for each foreign and defense policy related bill and postfix '-P' or '-NP' to the $rollnumber$ value to indicate a positive or not positive vote. This approach results in the addition of 16 nodes, two each for the 8 bills."
   ]
  },
  {
   "cell_type": "code",
   "execution_count": null,
   "id": "b9b11ce4-eaf4-438a-9cc1-0d996023c3d4",
   "metadata": {},
   "outputs": [],
   "source": [
    "# Loop through the bills and only add defense bills twice\n",
    "for index, bill in senate_bills_df.iterrows():\n",
    "    if bill.cc_for_def == 1:\n",
    "        node_id = bill.rollnumber + '-P'\n",
    "        G_bills_split.add_node(node_id, bipartite=1,\n",
    "                   date=bill.date,\n",
    "                   bill_number=bill.bill_number,\n",
    "                   #passed=bill.passed,\n",
    "                   desc=bill.vote_desc,\n",
    "                   passed=1)\n",
    "        node_id = bill.rollnumber + '-NP'\n",
    "        G_bills_split.add_node(node_id, bipartite=1,\n",
    "                   date=bill.date,\n",
    "                   bill_number=bill.bill_number,\n",
    "                   #passed=bill.passed,\n",
    "                   desc=bill.vote_desc,\n",
    "                   passed=0)\n",
    "len(G_bills_split.nodes())"
   ]
  },
  {
   "cell_type": "markdown",
   "id": "27a0be13-f465-4c83-bb7b-6930107c788e",
   "metadata": {},
   "source": [
    "Now, we add the appopriate edge for each Senator vote to the positive or not positive node of each bill."
   ]
  },
  {
   "cell_type": "code",
   "execution_count": null,
   "id": "19fb05d5-10a3-446e-aa99-2ba752ff73b4",
   "metadata": {},
   "outputs": [],
   "source": [
    "for index, row in senate_bill_votes_df.iterrows():\n",
    "    # Only consider the def bill roll numbers\n",
    "    if row.rollnumber in [ '245','317','326','337','350','353','370','573']:\n",
    "        if row.cast_code == '1':\n",
    "            G_bills_split.add_edge(row.icpsr, row.rollnumber+'-P')\n",
    "        elif row.cast_code == '6':\n",
    "            G_bills_split.add_edge(row.icpsr, row.rollnumber+'-NP')"
   ]
  },
  {
   "cell_type": "code",
   "execution_count": null,
   "id": "458a4e32-de70-48b2-85dd-f273439bacf7",
   "metadata": {},
   "outputs": [],
   "source": [
    "#(len(G_bills_split.nodes()), len(G_bills_split.edges()))"
   ]
  },
  {
   "cell_type": "markdown",
   "id": "2fa52d7c-e3f5-4d01-842e-59ee66a5ab25",
   "metadata": {},
   "source": [
    "The resulting graph object is not connected. Six nodes are not connected because two bills received only positive votes and four Senators did not vote on any of the foreign and defense policy bills."
   ]
  },
  {
   "cell_type": "code",
   "execution_count": null,
   "id": "cc0173d9-2c13-4f28-ba9e-55aa9aee9adf",
   "metadata": {},
   "outputs": [],
   "source": [
    "nx.is_connected(G_bills_split)"
   ]
  },
  {
   "cell_type": "code",
   "execution_count": null,
   "id": "263d71c7-da80-4d40-b241-14762498e6a2",
   "metadata": {},
   "outputs": [],
   "source": [
    "graphs = list(nx.connected_component_subgraphs(G_bills_split))\n",
    "g_s113_bill_split = graphs[0]\n",
    "len(g_s113_bill_split.nodes()) #121 to 115, 6 were removed"
   ]
  },
  {
   "cell_type": "markdown",
   "id": "f4c32bf6-0283-48b8-a24f-0ce572d0e00e",
   "metadata": {},
   "source": [
    "As in the section above, we generate the label and color of the nodes."
   ]
  },
  {
   "cell_type": "code",
   "execution_count": null,
   "id": "22f812ab-b2be-4e96-834b-fcf5e9bce677",
   "metadata": {
    "tags": []
   },
   "outputs": [],
   "source": [
    "my_labels = [ v[1]['name'] if v[1]['bipartite']==0 else v[1]['bill_number'] for v in g_s113_bill_split.nodes(data=True)]\n",
    "#len(my_labels)\n",
    "label_map = { g_s113_bill_split.nodes()[i] : my_labels[i] for i in range(len(g_s113_bill_split.nodes())) }"
   ]
  },
  {
   "cell_type": "code",
   "execution_count": null,
   "id": "e941c04b-2c70-4567-aeba-061865c35228",
   "metadata": {
    "tags": []
   },
   "outputs": [],
   "source": [
    "# Assign node colors\n",
    "\n",
    "my_node_color = [ ]\n",
    "\n",
    "for node in g_s113_bill_split.nodes(data=True):\n",
    "    if node[1]['bipartite'] == 0: # Senator\n",
    "        if node[1]['party'] == '100' or node[1]['party'] == '328': # Democrate\n",
    "            my_node_color.append('blue')\n",
    "        else: # Republican\n",
    "            my_node_color.append('red')\n",
    "    else: # Bill\n",
    "        if node[1]['passed'] == 1: # Passed\n",
    "            my_node_color.append('green')\n",
    "        else: # Not Passed\n",
    "            my_node_color.append('orange')"
   ]
  },
  {
   "cell_type": "code",
   "execution_count": null,
   "id": "5222a68f-ab42-432f-be82-c7939b673509",
   "metadata": {
    "tags": []
   },
   "outputs": [],
   "source": [
    "# Assign the position\n",
    "\n",
    "# Separate into 3 sets\n",
    "senator_nodes = {n for n, d in g_s113_bill_split.nodes(data=True) if d[\"bipartite\"] == 0}\n",
    "vote_nodes = set(g_s113_bill_split) - senator_nodes\n",
    "rep_nodes = {n for n, d in g_s113_bill_split.nodes(data=True) if d[\"bipartite\"] == 0 and d[\"party\"] == '200'}\n",
    "dem_nodes = {n for n, d in g_s113_bill_split.nodes(data=True) if d[\"bipartite\"] == 0 and (d[\"party\"] == '100' or d[\"party\"] == '328')}"
   ]
  },
  {
   "cell_type": "code",
   "execution_count": null,
   "id": "a39bd5ae-2a40-47e5-88ea-fbe196d6ad54",
   "metadata": {
    "tags": []
   },
   "outputs": [],
   "source": [
    "# Separate by group\n",
    "pos = {}\n",
    "\n",
    "# Update position for node from each group\n",
    "pos.update((node, (1, index)) for index, node in enumerate(dem_nodes))\n",
    "pos.update((node, (2, index)) for index, node in enumerate(vote_nodes))\n",
    "pos.update((node, (3, index)) for index, node in enumerate(rep_nodes))"
   ]
  },
  {
   "cell_type": "code",
   "execution_count": null,
   "id": "b85fbe86-21b6-4cdc-b630-3c95237100cd",
   "metadata": {
    "tags": []
   },
   "outputs": [],
   "source": [
    "# Separate by group\n",
    "pos_nom_dim = {}\n",
    "\n",
    "# Update position for node from each group\n",
    "pos_nom_dim.update((node, (s113_members_sel_df.loc[s113_members_sel_df['icpsr'] == node, 'nominate_dim1'].item(), index)) for index, node in enumerate(dem_nodes))\n",
    "pos_nom_dim.update((node, (0, index+11)) for index, node in enumerate(vote_nodes))\n",
    "pos_nom_dim.update((node, (s113_members_sel_df.loc[s113_members_sel_df['icpsr'] == node, 'nominate_dim1'].item(), index+6)) for index, node in enumerate(rep_nodes))"
   ]
  },
  {
   "cell_type": "code",
   "execution_count": null,
   "id": "30258cac-6140-41fd-b5da-70c9b26200bf",
   "metadata": {
    "tags": []
   },
   "outputs": [],
   "source": [
    "# graph[0] has all the nodes and edges\n",
    "# graph[1] contains just a single node 14920, who did not vote on anything\n",
    "nx.is_connected(g_s113_bill_split)"
   ]
  },
  {
   "cell_type": "code",
   "execution_count": null,
   "id": "2dce9498-6df6-431b-9a6e-5b5d3672b64d",
   "metadata": {
    "tags": []
   },
   "outputs": [],
   "source": [
    "# Set to True for plot\n",
    "create_plot = False\n",
    "if create_plot:\n",
    "    plt.figure(figsize = (16, 40))\n",
    "    plt.tight_layout()\n",
    "    plt.axis(\"off\")\n",
    "    nx.draw_networkx(g_s113_bill_split, \n",
    "                     node_color = my_node_color,\n",
    "                     #edge_color = my_edge_color,\n",
    "                     labels = label_map,\n",
    "                     pos = pos)"
   ]
  },
  {
   "cell_type": "markdown",
   "id": "e45bd27f-3ecc-4a44-910f-7aa190d19d1b",
   "metadata": {},
   "source": [
    "### Weighted Projected Graph\n",
    "\n",
    "Following the textbook approach, we apply the weighted project graph to the Senator nodes of the bipartite graph. The Senator node degrees of the weighted project graph are computed as the total number of shared contacts. The degrees of the nodes and the weight of the edges provide an additional level of information within the whole group."
   ]
  },
  {
   "cell_type": "code",
   "execution_count": null,
   "id": "1d6ef05a-1b25-4c82-ada5-5242970dfeb7",
   "metadata": {},
   "outputs": [],
   "source": [
    "# apply island method to just this graph\n",
    "import math\n",
    "import seaborn as sns\n",
    "\n",
    "# Reset figure size for plots\n",
    "#plt.rcParams.update(plt.rcParamsDefault)"
   ]
  },
  {
   "cell_type": "code",
   "execution_count": null,
   "id": "4cb87b42-6322-4039-931f-6a495fb681d6",
   "metadata": {},
   "outputs": [],
   "source": [
    "# project bipartite graph onto Senator nodes\n",
    "W = bipartite.weighted_projected_graph(g_s113_bill_split, senator_nodes, ratio=False)"
   ]
  },
  {
   "cell_type": "code",
   "execution_count": null,
   "id": "184887a5-3cba-43c4-b602-92dbdbdad57f",
   "metadata": {},
   "outputs": [],
   "source": [
    "weights=[math.log(edata['weight']) for f,t,edata in W.edges(data=True)]"
   ]
  },
  {
   "cell_type": "markdown",
   "id": "764cc4c2-ada7-438b-907d-a73b3c4a760f",
   "metadata": {},
   "source": [
    "The plot based on the weighted projected graph of Senator nodes shows the connections between the individuals with the thicker, lighter colored edges indicating a greater strength in the relationship. The yellow lines below indicate the higher number of shared votes. Also note, we take the logarithm of the weight values to decrease the range of values."
   ]
  },
  {
   "cell_type": "code",
   "execution_count": null,
   "id": "06df19ca-62a3-4f42-84ae-ad020cc3e7b4",
   "metadata": {},
   "outputs": [],
   "source": [
    "nx.draw_networkx(W, width=weights, edge_color=weights)"
   ]
  },
  {
   "cell_type": "code",
   "execution_count": null,
   "id": "b80482e4-9a49-4aa0-a7aa-b1a01529c0b2",
   "metadata": {},
   "outputs": [],
   "source": [
    "senators_wgt_dict = {}\n",
    "for s in senator_nodes:\n",
    "        senators_wgt_dict[s] = (W.degree(s,weight='weight'))\n",
    "dt={k: v for k, v in sorted(senators_wgt_dict.items(), key=lambda item: item[1], reverse=True)}\n",
    "df=pd.DataFrame.from_dict(dt, orient='index').reset_index()\n",
    "df.columns = ['Senator','Degree']\n",
    "#df"
   ]
  },
  {
   "cell_type": "markdown",
   "id": "f66808ec-d27e-44f1-a9df-d30d106b9b68",
   "metadata": {},
   "source": [
    "In order to prune the plot of the weighted projected graph, we need to select an edge weight threshold to ensure only stronger relationships. The histogram below indicates most edge weights bare less then 2.0. We will start with a threshold of 2.0 to focus the initial graph."
   ]
  },
  {
   "cell_type": "code",
   "execution_count": null,
   "id": "f6a2d63a-0d9c-4277-870d-09b5753a1783",
   "metadata": {},
   "outputs": [],
   "source": [
    "# Need to create histogram of the weights\n",
    "plt.rcParams.update(plt.rcParamsDefault)\n",
    "sns.histplot(data=weights).set(title='Network of Senators: Edge Weight Histogram', xlabel='Log of Edge Weight', ylabel='Count');"
   ]
  },
  {
   "cell_type": "markdown",
   "id": "94d2b75e-9f89-471a-b316-b9e33e503cd2",
   "metadata": {},
   "source": [
    "Following the textbook example, we create a function to trim the graph edges based on a weight threshold."
   ]
  },
  {
   "cell_type": "code",
   "execution_count": null,
   "id": "0415e877-937f-453b-a606-82a22ea05c05",
   "metadata": {},
   "outputs": [],
   "source": [
    "# From textbook\n",
    "def trim_edges(g, weight=1):\n",
    "    g2 = nx.Graph()\n",
    "    g2.add_nodes_from(g.nodes(data=True))\n",
    "    #g2 = g.__class__()\n",
    "    #g2.add_nodes_from(g)\n",
    "    #g2=nx.Graph()\n",
    "    for f, to, edata in g.edges(data=True):\n",
    "        if edata['weight'] > weight:\n",
    "            g2.add_edge(f,to,edata)\n",
    "    return g2"
   ]
  },
  {
   "cell_type": "code",
   "execution_count": null,
   "id": "4aaea1f9-ed89-4e36-a39c-23ed2074670a",
   "metadata": {},
   "outputs": [],
   "source": [
    "## The weights histogram is logarithmic;\n",
    "## we should compute the original weight = e^log_weight\n",
    "Wnet_trim=trim_edges(W, weight=math.exp(2.0))\n",
    "# Remove node isolates\n",
    "Wnet_trim.remove_nodes_from(list(nx.isolates(Wnet_trim)))"
   ]
  },
  {
   "cell_type": "markdown",
   "id": "f5672591-5c74-4154-82ed-2dbf5a6f64ba",
   "metadata": {},
   "source": [
    "______"
   ]
  },
  {
   "cell_type": "markdown",
   "id": "31d97768-3ced-46e3-b893-4ea8c6d37d56",
   "metadata": {},
   "source": [
    "## Results\n",
    "\n",
    "We plot the network graph connecting Senator nodes with an edge-weight 2.0 or greater. A second plot constructed using a graphml file in Gephi provides a clearer depiction of the clusters with the Senator nodes labeled by name."
   ]
  },
  {
   "cell_type": "code",
   "execution_count": null,
   "id": "39475f5a-b15f-48dc-8caf-dfcf89c2db39",
   "metadata": {},
   "outputs": [],
   "source": [
    "## re-calculate weights based on the new graph\n",
    "weights=[edata['weight'] for f,t,edata in Wnet_trim.edges(data=True)]\n",
    "plt.rcParams['figure.figsize'] = [10, 10]\n",
    "nx.draw_networkx(Wnet_trim,width=weights, edge_color=weights)"
   ]
  },
  {
   "cell_type": "markdown",
   "id": "99724118-35db-44be-8ec2-855e0b4a3c5b",
   "metadata": {},
   "source": [
    "<img src=\"s113_wgt2-0.png\" width=\"1200\" />"
   ]
  },
  {
   "cell_type": "code",
   "execution_count": null,
   "id": "8441574c-85e6-4f30-8067-eff1c710eb72",
   "metadata": {},
   "outputs": [],
   "source": [
    "Wnet_file = \"S113_Island_2-0.graphml\"\n",
    "nx.write_graphml( Wnet_trim, Wnet_file )"
   ]
  },
  {
   "cell_type": "code",
   "execution_count": null,
   "id": "4f317ae4-42e1-44a5-88d9-6de93257088f",
   "metadata": {},
   "outputs": [],
   "source": [
    "g_islands = list(nx.connected_component_subgraphs(Wnet_trim))\n",
    "len(g_islands)\n",
    "\n",
    "for g in g_islands:\n",
    "    df1 = (s113_members_sel_df[s113_members_sel_df['icpsr'].isin(g.nodes())][['bioname','party_code', 'nominate_dim1']])\n",
    "    #print(df1)\n",
    "    #print(len(df1))"
   ]
  },
  {
   "cell_type": "markdown",
   "id": "664eab1c-fe7b-481c-95bf-37c2a4357c07",
   "metadata": {},
   "source": [
    "The resulting graph plot indicates 8 islands or clusters. The make-up of those 8 clusters are as follows:\n",
    "\n",
    "- 37 Democrats\n",
    "- 7 Democrats\n",
    "- 2 Democrats\n",
    "- 12 Republicans\n",
    "- 9 Republicans\n",
    "- 5 Republicans\n",
    "- 2 Republicans\n",
    "- 2 Republicans"
   ]
  },
  {
   "cell_type": "markdown",
   "id": "72d51331-5e97-4997-96e7-35d2dfb8b14d",
   "metadata": {},
   "source": [
    "Now that we've established a number of distinct clusters within each party, we decrease the edge weight threshold to 1.9 in an attempt to broaden the affiliation networks and decrease the number of clusters. We expect to find two distinct clusters that fall along party lines."
   ]
  },
  {
   "cell_type": "code",
   "execution_count": null,
   "id": "163af8d5-9ae2-46e8-8154-fc6d237b952f",
   "metadata": {},
   "outputs": [],
   "source": [
    "## The weights histogram is logarithmic;\n",
    "## we should compute the original weight = e^log_weight\n",
    "Wnet_trim=trim_edges(W, weight=math.exp(1.9))\n",
    "Wnet_trim.remove_nodes_from(list(nx.isolates(Wnet_trim)))"
   ]
  },
  {
   "cell_type": "code",
   "execution_count": null,
   "id": "5db89116-3e9d-4c49-a2ac-45296d2ed253",
   "metadata": {},
   "outputs": [],
   "source": [
    "## re-calculate weights based on the new graph\n",
    "weights=[edata['weight'] for f,t,edata in Wnet_trim.edges(data=True)]\n",
    "nx.draw_networkx(Wnet_trim,width=weights, edge_color=weights)"
   ]
  },
  {
   "cell_type": "code",
   "execution_count": null,
   "id": "2b282fdc-ce2d-411f-9030-2e54ada523df",
   "metadata": {},
   "outputs": [],
   "source": [
    "Wnet_file = \"S113_Island_1-9.graphml\"\n",
    "nx.write_graphml( Wnet_trim, Wnet_file )"
   ]
  },
  {
   "cell_type": "markdown",
   "id": "0b1e6b86-925a-414a-8c67-ee6208cacc7a",
   "metadata": {},
   "source": [
    "By decreasing the threshold, we find an expected result of two distinct clusters. Let's confirm the clusters follow party lines."
   ]
  },
  {
   "cell_type": "code",
   "execution_count": null,
   "id": "53ad7170-043d-4898-82d4-e1df352ccba0",
   "metadata": {},
   "outputs": [],
   "source": [
    "g_islands = list(nx.connected_component_subgraphs(Wnet_trim))\n",
    "len(g_islands)\n",
    "\n",
    "for g in g_islands:\n",
    "    df1 = (s113_members_sel_df[s113_members_sel_df['icpsr'].isin(g.nodes())][['bioname','party_code']])\n",
    "    #print(df1)\n",
    "    #print(len(df1))"
   ]
  },
  {
   "cell_type": "markdown",
   "id": "5f3da1cc-996c-4dfc-b951-4abc7218a4e4",
   "metadata": {},
   "source": [
    "By using the graphml file of the graph object in Gephi, we are able to detect the two clusters are split along party lines except Republican Senator from Alaska, Lisa Murkowski, falls in the cluster with the Democrats (bottom left of the plot)."
   ]
  },
  {
   "cell_type": "markdown",
   "id": "5ab8c723-2825-47c7-a7fc-1c069388ab0c",
   "metadata": {},
   "source": [
    "<img src=\"s113_wgt_1-9.png\" width=\"1200\" />"
   ]
  },
  {
   "cell_type": "markdown",
   "id": "038ead61-9cc1-4efe-bd06-3056e56206ea",
   "metadata": {},
   "source": [
    "### Boundary Spanners\n",
    "In order to find boundary spanners of the two clusters, we lower the edge weight threshold to 1.77 to ensure the resulting graph is completely connected."
   ]
  },
  {
   "cell_type": "code",
   "execution_count": null,
   "id": "ab93bdb0-c691-4c77-8e4d-21f41199bf48",
   "metadata": {},
   "outputs": [],
   "source": [
    "## The weights histogram is logarithmic;\n",
    "## we should compute the original weight = e^log_weight\n",
    "Wnet_trim=trim_edges(W, weight=math.exp(1.77))\n",
    "Wnet_trim.remove_nodes_from(list(nx.isolates(Wnet_trim)))"
   ]
  },
  {
   "cell_type": "code",
   "execution_count": null,
   "id": "3d3be05d-b6d0-45f2-a57a-b2cd2d4ac33a",
   "metadata": {
    "tags": []
   },
   "outputs": [],
   "source": [
    "## re-calculate weights based on the new graph\n",
    "plt.rcParams['figure.figsize'] = [10, 10]\n",
    "weights=[edata['weight'] for f,t,edata in Wnet_trim.edges(data=True)]\n",
    "#nx.draw_networkx(Wnet_trim,width=weights, edge_color=weights)"
   ]
  },
  {
   "cell_type": "markdown",
   "id": "d80722b1-5764-4f2a-a90b-51042712c88c",
   "metadata": {},
   "source": [
    "<img src=\"s113_wgt_1-77.png\" width=\"1200\" />"
   ]
  },
  {
   "cell_type": "code",
   "execution_count": null,
   "id": "ef5e727e-e603-4413-aeb1-dc08a23fbe3d",
   "metadata": {},
   "outputs": [],
   "source": [
    "Wnet_file = \"S113_Island_1-77.graphml\"\n",
    "nx.write_graphml( Wnet_trim, Wnet_file )"
   ]
  },
  {
   "cell_type": "markdown",
   "id": "0b62ee7e-61ac-4af3-8a46-8aea200e503f",
   "metadata": {},
   "source": [
    "With a fully connected graph based on the weighted projected graph, we identify 11 primary boundary spanners connecting the Democrat and Republican clusters. On the Democratic side, three individuals connect to eight individuals on the Republican side.\n",
    "\n",
    "The Democratic side consists of:\n",
    "\n",
    "- Harry Reid\n",
    "- Ronald Lee Wyden\n",
    "- Bill Nelson\n",
    "\n",
    "The Republican side consists of:\n",
    "\n",
    "- Lisa Murkowski\n",
    "- Chuck Grassley\n",
    "- Jerry Moran\n",
    "- Mitch McConnell\n",
    "- David Vitter\n",
    "- Susan Collins\n",
    "- Mike Johanns\n",
    "- Dean Heller\n",
    "\n",
    "Interestingly as before, Murkowski shares more common neighbors with Democratics for the foreign and defense policy bill votes despite being a Republican. "
   ]
  },
  {
   "cell_type": "markdown",
   "id": "f30bd1cd-db96-4d81-9f55-f8c42f4e7e1c",
   "metadata": {},
   "source": [
    "______"
   ]
  },
  {
   "cell_type": "markdown",
   "id": "f85fe210-75b7-43c9-ad32-51df602aefd8",
   "metadata": {},
   "source": [
    "## Discussion\n",
    "\n",
    "The use of network analysis reaffirmed assumptions about the polarization of the voting patterns for a recent Senate while also providing insights into instances of unanimous votes and individual Senators crossing the party line vote.\n",
    "\n",
    "* By plotting the Senators according to party, we were able to clearly see the polarization in the voting patterns on Senate bills between Republicans and Democrats. Also, ws we narrowed the focus of the analysis to foreign and defense policy bills, we identified a three unanimous votes that indicates some topics do galvanize the support of all Senators no matter the party.\n",
    "* The island clustering method did highlight small factions within each party. The Republicans had 5 distinct clusters with a maximum count of 12 Senators while the Democrats had one primary cluster of 37 Senators and two smaller clusters.\n",
    "* In the focused analysis, we identified the Republican Senator Lisa Murkowski shares a closer voting pattern with Democrats for the small sample size of foreign and defense policy bills.\n",
    "__________________________________"
   ]
  },
  {
   "cell_type": "markdown",
   "id": "71f5ac7d-a007-4b57-881c-e6d7c8c5127e",
   "metadata": {
    "tags": []
   },
   "source": [
    "# $\\color{blue}{\\text{Part Two:  Presidential Nominations}}$\n",
    "\n",
    "## Background\n",
    "\n",
    "The President of the United States nominates officials to certain high positions with the advice and consent of the Senate.   Such positions include federal judges, ambassadors, Cabinet level officials, directors or heads of regulatory or law enforcement agencies. During the 113th Congress, the Senate considered and approved 188 nominations.  105 Senators participated in some or all of the nomination rollcalls but only 100 active members at any one time. Typically nominations are not rejected because the nominee is not considered for a full Senate vote unless the administration and Senate leaders have the required votes to proceed.\n",
    "\n",
    "During the 113th Congress, the Senate was controlled by the Democratic party with 53 members in the Democratic Party and 2 independents who caucused with the Democrats for a total of 55 votes.  The Republican side hasd 45 members.  The 10 vote advantage to the Democratic party enabled it to pass legislation which became more difficult in the 114th Congress when control shifted to the Republican Party.\n",
    "\n",
    "Our analysis considers two questions:\n",
    "\n",
    "1.  Did Senators vote for presidential nomination in a coordinated manner based on a network analysis of the rollcall voting?\n",
    "\n",
    "2.  Did nominations show clustering due to coordination of Senatorial rollcall voting?   If so, is the clustering related to the department of the nomination?\n",
    "\n",
    "Our dataset consisted of 105 senators, 188 nominations (rollcalls) and 18800 member votes on those nominations.\n",
    "\n",
    "___\n",
    "\n",
    "\n"
   ]
  },
  {
   "cell_type": "markdown",
   "id": "ca9a6c3f-3d49-4c03-89b4-7e69cc44475a",
   "metadata": {},
   "source": [
    "## Methods\n",
    "\n",
    "To analyze both questions above, we build and evaluate 2 weighted projections of bipartite graphs in which the set of nodes are $A$ senators and $B$ rollcalls of nominations.\n",
    "\n",
    "However, we take a slightly different approach to defining the rollcall votes as follows:\n",
    "\n",
    "*  The set $A$ of senators is encoded by their `icpsr` code.  There are 105 senators as stated earlier.\n",
    "\n",
    "*  The set $B$ of rollcalls is split into two sets based on `yea` or `nay` outcomes.   $B_y$ is the set of nodes representing yea votes on a nomination.   $B_n$ is the set of nodes representing `nay` votes on a nomination.\n",
    "Since $\\lvert  B \\rvert = 188$, there are twice as many nodes \n",
    "\n",
    "$$\\lvert B_y \\rvert + \\lvert B_n \\rvert = 2 \\cdot \\lvert B \\rvert = 376$$.\n",
    "\n",
    "\n",
    "This approach has some advantages:\n",
    "\n",
    "*  construct a undirected, unweighted graph that encodes all the voting information \n",
    "*  instead of using a weighted graph that requires assigning numerical scores to both yea, nay and absent votes.\n",
    "\n",
    "\n",
    "Let $M = 105$ denote the number of Senators.   Let $N = 188$ denote the number of nominations.\n",
    "\n",
    "\n",
    "### Weighted projection of the Senate Voting\n",
    "\n",
    "To analyze the coordinated voting of Senators, we will examine the weighted projection of this above bipartite graph $G$ on its senators $A$.\n",
    "We construct the biadjacency matrix $\\mathbf{W}$ of size $M \\times 2N$ which contains 0-1 entries where $W[i,j1] = 1$ means senator $i$ cast a yea vote for nominee $j$ if $j1$ is in the yea group of columns or a nay vote if $j1$ is in the nay group of columns.\n",
    "\n",
    "The weighted projected graph of Senators based on their common votes has an adjacency matrix with self-loops of $\\mathbf{PW}$ defined as:\n",
    "\n",
    "$$\\mathbf{ PW } = \\mathbf{W} \\cdot \\mathbf{W^T}$$\n",
    "\n",
    "The weighted projected graph of Senators with no self-loops (the graph which we will visualize below) has an adjacency matrix:\n",
    "\n",
    "$$\\mathbf{ PW^{*}} = \\mathbf{ W \\cdot W^{T} - diag( W \\cdot W^{T} ) }$$\n",
    "\n",
    "Our approach is to build the weighted projection of the Senator bipartite graph with no self-loops from the matrix $\\mathbf{ PW^{*}}$ rather than use the networkx functions for projection.\n"
   ]
  },
  {
   "cell_type": "markdown",
   "id": "3c884ef7-a8d9-4605-ba23-97252f43571b",
   "metadata": {},
   "source": [
    "### Weighted projection of Nomination Support\n",
    "\n",
    "We are also interested in whether nominations garner the same support and resistance from Senators.\n",
    "\n",
    "To analyze the similarity of nomination support, we will examine the weighted projection of a slightly different bipartite graph $H$.\n",
    "The bipartite graph $H$ has two sets of senators and one set of nominations.\n",
    "\n",
    "We construct two nodes $s_y$ and $s_n$ representing `yea` votes or `nay` votes for each senator $s$.  These nodes are contained in the two sets $A_y$ and $A_n$ respectively corresponding to the set of senators $A$.\n",
    "\n",
    "We construct the biadjacency matrix $\\mathbf{Y}$ of size $N  \\times 2M $ which contains 0-1 entries where $Y[i,j1] = 1$ means nomination $i$ got a yea vote from Senator $j$ if $j1$ is in the yea group of columns or a nay vote if $j1$ is in the nay group of columns.\n",
    "\n",
    "The weighted projected graph of nominations based on their common votes with self-loops has an adjacency matrix $\\mathbf{PY}$ defined as:\n",
    "\n",
    "$$\\mathbf{ PY } = \\mathbf{Y} \\cdot \\mathbf{Y^T}$$\n",
    "\n",
    "The weighted projected graph of nominations with no self-loops (the graph which we will visualize below) has an adjacency matrix:\n",
    "\n",
    "$$\\mathbf{ PY^{*}} = \\mathbf{ Y \\cdot Y^{T} - diag( Y \\cdot Y^{T} ) }$$\n",
    "\n",
    "Our approach is to build the weighted projection of the nomination bipartite graph with no self-loops from the matrix $\\mathbf{ PY^{*}}$ rather than use the networkx functions for projection."
   ]
  },
  {
   "cell_type": "code",
   "execution_count": null,
   "id": "43483b3d-1c3f-4ae3-bef5-6d05be22ae64",
   "metadata": {
    "tags": []
   },
   "outputs": [],
   "source": [
    "import warnings\n",
    "warnings.filterwarnings('ignore')\n",
    "\n",
    "\n",
    "import matplotlib.pyplot as plt\n",
    "import numpy as np\n",
    "import pandas as pd\n",
    "import networkx as nx\n",
    "import networkx.algorithms.bipartite as bipartite\n",
    "import json\n",
    "import os\n",
    "import re\n",
    "import matplotlib.pyplot as plt\n",
    "import operator"
   ]
  },
  {
   "cell_type": "markdown",
   "id": "2a69565c-c2ba-4d64-a2f5-3fcc58ef0a22",
   "metadata": {},
   "source": [
    "We load the rollcall data from json or csv to datafram in the code below.   It is necessary to split certain text strings to separate the nominee from the position to create three derived fields: `State` (of residence of the nominee), `Name` of the nominee and `Position` (e.g. Secretary of Treasury).   The data is stored in the dataframe `nominations`.  "
   ]
  },
  {
   "cell_type": "code",
   "execution_count": null,
   "id": "d35c6092-d96c-45f2-b419-9ad7a9ea8989",
   "metadata": {
    "tags": []
   },
   "outputs": [],
   "source": [
    "with open(\"S113_rollcalls.json\", 'r') as f:\n",
    "    rollcall_data = json.load(f)\n",
    "\n",
    "raw_rollcall = pd.DataFrame(rollcall_data)\n",
    "\n",
    "stage_nomination_rollcalls = raw_rollcall[ raw_rollcall[\"bill_number\"].notnull() ]\n",
    "\n",
    "stage_nomination_rollcalls = stage_nomination_rollcalls[ stage_nomination_rollcalls[\"bill_number\"].str.startswith('PN') ]\n",
    "\n",
    "# Select only useful columns\n",
    "nomination_rollcalls = stage_nomination_rollcalls[['rollnumber', 'date', 'yea_count', 'nay_count' ,\n",
    "                                                   'nominate_mid_1' , 'bill_number' , 'vote_result' , 'vote_desc' ,\n",
    "                                                   'vote_question' , 'clausen_codes' , 'peltzman_codes', 'issue_codes'\n",
    "                                                   ]]\n",
    "\n",
    "# Extract the set of nominees based solely on the vote question.\n",
    "# The name is always the first string in Vote Desc before , of\n",
    "\n",
    "vote_questions = nomination_rollcalls[ nomination_rollcalls['vote_question'] == 'On the Nomination' ].copy().reset_index(drop=True)\n",
    "\n",
    "df_nominations = vote_questions['vote_desc'].apply(str.strip).str.split(', of', 1, expand = True).rename(\n",
    "     columns = {0: 'Name', 1: 'StatePosition'})\n",
    "\n",
    "df_nominations['StatePosition'] = df_nominations['StatePosition'].apply(str.strip)\n",
    "\n",
    "state_position = df_nominations['StatePosition'].apply( lambda x: re.split(', to be |, for the rank of ',x ))\n",
    "\n",
    "nomination_state_pos = pd.DataFrame( state_position.tolist(), columns = ['State', 'Position'] )\n",
    "\n",
    "issue_codes = vote_questions[\"issue_codes\"].apply(pd.Series).rename( columns = {0: 'issue_code1', 1: 'issue_code2'} )\n",
    "clausen_codes = vote_questions[\"clausen_codes\"].apply(pd.Series).rename( columns = {0: 'clausen_code1'} )\n",
    "\n",
    "nominations = pd.concat( [ df_nominations, nomination_state_pos, issue_codes[\"issue_code1\"], clausen_codes, \n",
    "                vote_questions[['rollnumber', 'date', 'yea_count', 'nay_count', 'nominate_mid_1', 'bill_number', 'vote_result']]], axis = 1)\n"
   ]
  },
  {
   "cell_type": "markdown",
   "id": "6bcdbf44-b50c-478b-a7ff-1e2abaf7324c",
   "metadata": {},
   "source": [
    "We also need to identify the broad department of each candidate.  We assign custom category based on the nominee's agency or department, `Position` and `issue_code`."
   ]
  },
  {
   "cell_type": "code",
   "execution_count": null,
   "id": "820908e8-f771-46a5-9bc6-0eb885454043",
   "metadata": {
    "tags": []
   },
   "outputs": [],
   "source": [
    "#\n",
    "# This function allows us to convert each nomination to its branch\n",
    "# based on the department associated with the position.\n",
    "#\n",
    "def translate_dept(row):\n",
    "    \n",
    "    iss1 = row['issue_code1']\n",
    "    pos = row['Position']\n",
    "    \n",
    "    if iss1 in [ 'Judiciary',  'Banking and Finance' ,  'Energy' ]:\n",
    "        return iss1\n",
    "    if operator.contains(pos, \"Internal Revenue\") or operator.contains(pos, \"Bank\"):\n",
    "        return \"Banking and Finance\"\n",
    "    \n",
    "    if operator.contains( pos, \"Ambassador\") or operator.contains(pos, \"Secretary of State\"):\n",
    "        return \"State\"\n",
    "    \n",
    "    if pos in ['Secretary of Defense', \n",
    "               'Secretary of the Air Force' \n",
    "               ] or operator.contains(pos, \"Central Intelligence\"):\n",
    "        return \"Defense\"\n",
    "    if operator.contains(pos, \"Office of Management and Budget\") or \\\n",
    "       operator.contains(pos, \"Personnel Management\" ):\n",
    "       return \"Executive\"\n",
    "    \n",
    "    if operator.contains(pos, \"Homeland Security\"):\n",
    "        return \"Homeland Security\"\n",
    "    if operator.contains(pos, \"National Labor Relations\") or \\\n",
    "        operator.contains(pos, \"Privacy and Civil Liberties\") or \\\n",
    "        operator.contains(pos, \"Environmental Protection\") or \\\n",
    "        operator.contains(pos, \"Federal Trade Commission\") or \\\n",
    "        operator.contains(pos, \"Equal Employment Opportunity Commission\") or \\\n",
    "        operator.contains(pos, \"Nuclear Regulatory\") or \\\n",
    "        operator.contains(pos, \"Tennessee Valley\") or \\\n",
    "        operator.contains(pos, \"Consumer Product Safety\"):\n",
    "        return \"Regulatory\"\n",
    "    \n",
    "    if operator.contains(pos, \"Secretary of the Interior\") or \\\n",
    "        operator.contains(pos, \"Land Management\") or \\\n",
    "        operator.contains(pos, \"Commerce\") or \\\n",
    "        operator.contains(pos, \"Transportation\") or \\\n",
    "        operator.contains(pos, \"of Labor\"):\n",
    "        return \"Domestic, Commerce\"\n",
    "    if operator.contains(pos, \"Health and Human Services\") or \\\n",
    "        operator.contains(pos, \"Social Security\") or \\\n",
    "       operator.contains(pos, \"Housing and Urban Development\") or \\\n",
    "       operator.contains(pos, \"Veterans\") or \\\n",
    "         operator.contains(pos, \"Public Health\") or \\\n",
    "       operator.contains(pos, \"Medicare\"):\n",
    "        return \"Human Services\"\n",
    "    if operator.contains(pos, \"Federal Bureau of Investigation\") or \\\n",
    "       operator.contains(pos, \"Attorney General\") or \\\n",
    "       operator.contains(pos, \"Alcohol, Tobacco, Firearms\"):\n",
    "        return   \"Justice\"\n",
    "    \n",
    "    return 'Other'\n",
    "\n",
    "nominations[\"dept\"] = nominations.apply(lambda row: translate_dept(row), axis = 1)\n",
    "\n",
    "# Keep the important columns\n",
    "nominations = nominations[[\"Name\", \"State\", \"dept\", \"Position\", \"clausen_code1\", \"rollnumber\", \"date\", \"yea_count\", \n",
    "                           \"nay_count\", \"nominate_mid_1\", \"bill_number\", \"vote_result\"]]\n",
    "\n"
   ]
  },
  {
   "cell_type": "markdown",
   "id": "71699ec1-e92b-491a-bdf9-e7317354f514",
   "metadata": {},
   "source": [
    "Next, we load the Senators and their key attributes into a dataframe `members`.   For simplicity, the two independent Senators (Angus King and Bernie Sanders) are treated as Democrats because they caucus with the Democratic Party.  We construct a derived field `short_name` to combine party, state abbreviation and last name."
   ]
  },
  {
   "cell_type": "code",
   "execution_count": null,
   "id": "5a926594-b233-49ba-9def-a4932145ae14",
   "metadata": {
    "tags": []
   },
   "outputs": [],
   "source": [
    "# Load the Senate Members\n",
    "\n",
    "members_raw = pd.read_csv(\"S113_members.csv\")\n",
    "\n",
    "#\n",
    "#  Need to drop Obama.  The president is in the file.\n",
    "#\n",
    "df_members = members_raw[ members_raw[\"chamber\"] == \"Senate\" ]\n",
    "\n",
    "def convert_party_code(row):\n",
    "    \n",
    "    party_code = row[\"party_code\"]\n",
    "    \n",
    "    if party_code == 100:\n",
    "        return \"Democrat\"\n",
    "    if party_code == 200:\n",
    "        return \"Republican\"\n",
    "    if party_code == 328:\n",
    "        return \"Independent\"\n",
    "    return \"Unknown\"\n",
    "\n",
    "df_members[\"party\"] = df_members.apply( lambda row:  convert_party_code(row), axis = 1 )\n",
    "\n",
    "def convert_bioname(row):\n",
    "    \n",
    "    name = row[\"bioname\"]\n",
    "    state = row[\"state_abbrev\"]\n",
    "    party_code = row[\"party_code\"]\n",
    "    \n",
    "    X = name.split(\", \")\n",
    "    \n",
    "    last_name_init =  X[0] \n",
    "\n",
    "    if party_code == 200:\n",
    "        short_code = \"R\"\n",
    "    else:\n",
    "        short_code =  \"D\"\n",
    "\n",
    "    return short_code + \"-\" + state + \"-\" + last_name_init\n",
    "\n",
    "df_members[\"short_name\"] = df_members.apply(lambda row: convert_bioname(row), axis = 1)\n",
    "\n",
    "# Use this dataframe\n",
    "# --------------------\n",
    "members = df_members[[\"icpsr\", \"state_abbrev\", \"party\", \"occupancy\", \"bioname\", \"short_name\",  \"born\", \"nominate_dim1\", \"state_icpsr\"]]  \n",
    "\n",
    "members.reset_index(inplace=True)  # Zero out the index\n"
   ]
  },
  {
   "cell_type": "markdown",
   "id": "0df6d1ec-09b9-44b7-ba18-ecf3cf87645c",
   "metadata": {
    "tags": []
   },
   "source": [
    "The final dataset is the member votes.  We need to translate the votes to `yea`, `nay` or abstention.  This is done using the `convert_castcode`.\n",
    "The last step is to inner join our members, rollcalls and member votes into a single wide dataframe which will be used to build our matrices and bipartite graphs.\n",
    "The resulting dataframe is `join_select` below."
   ]
  },
  {
   "cell_type": "code",
   "execution_count": null,
   "id": "253719d7-b727-4913-b134-fce124c385b7",
   "metadata": {
    "tags": []
   },
   "outputs": [],
   "source": [
    "## Finally, let's load the votes for each nomination\n",
    "# Need to drop the votes of the president.\n",
    "votes_raw = pd.read_csv(\"S113_votes.csv\")\n",
    "\n",
    "head_votes = votes_raw.head()  # for testing\n",
    "\n",
    "head_nominations = nominations.head()  # for testing\n",
    "\n",
    "# Join with nominations on the raw votes.  But this will include the President's vote which needs to be omitted.\n",
    "#\n",
    "join_votes_nominations = pd.merge( nominations, votes_raw , how = 'inner', left_on = \"rollnumber\", right_on = \"rollnumber\")\n",
    "\n",
    "head_join_votes_nominations = join_votes_nominations.head()  # for testing\n",
    "\n",
    "join_all = pd.merge( join_votes_nominations, members, how = \"inner\", left_on = \"icpsr\", right_on = \"icpsr\")\n",
    "\n",
    "def convert_castcode(row):\n",
    "    \n",
    "    cast_code = row[\"cast_code\"]\n",
    "\n",
    "    if cast_code == 1:\n",
    "        return \"Yes\"\n",
    "    if cast_code == 6:\n",
    "        return \"No\"\n",
    "    return \"Present\"\n",
    "\n",
    "join_all[\"cast_value\"] = join_all.apply( lambda row :  convert_castcode(row), axis = 1 )\n",
    "\n",
    "head_join_all = join_all.head() # Test\n",
    "\n",
    "#\n",
    "# Contains the nominee, roll call result, senator vote and party.\n",
    "# Useful for building the network graph.\n",
    "# -------------------------------------------------------------------\n",
    "join_select = join_all[[\"Name\", \"dept\", \"Position\", \"clausen_code1\", \"rollnumber\", \"date\", \\\n",
    "                        \"yea_count\", \"nay_count\", \"bill_number\", \"icpsr\", \\\n",
    "                        \"cast_value\", \"state_abbrev\", \"party\", \"short_name\", \"bioname\" ]]\n"
   ]
  },
  {
   "cell_type": "markdown",
   "id": "94cc63ae-906d-4b12-9662-03d361dc46c0",
   "metadata": {},
   "source": [
    "In the next step, we use the `join_select` dataframe to build the senator covoting biadjacency matrix which we denoted as $\\mathbf{W}$ above.   We save a csv file version for reference.\n",
    "We initialize $\\mathbf{W}$ as a matrix of zeroes and populate its non-zero entries based on the voting records.    The matrix $\\mathbf{W}$ is partitioned into two submatrics $\\mathbf{W_y}$ on the left side and $\\mathbf{W_n}$ on the right side."
   ]
  },
  {
   "cell_type": "code",
   "execution_count": null,
   "id": "e84d7ade-6b8b-4b7a-8fa3-7a00b9e83260",
   "metadata": {
    "tags": []
   },
   "outputs": [],
   "source": [
    "#  Build a biadjacency matrix using the M senators and 2 * N nominations\n",
    "#  Assign an explicit senator order ex ante to a list\n",
    "#  Assign an explicit yes-nomination and no-nomination list.  2*N\n",
    "#  The entries are 1 for vote of Yea or Nay in appropriate column.\n",
    "#  Abstentions, present, no voting are treated as 0. \n",
    "# --------------------------------------------------------------------------\n",
    "s_rollnumber =  nominations[\"rollnumber\"]  # length is number of columns N  \n",
    "s_icpsr = members[\"icpsr\"]   # length is number of rows M\n",
    "\n",
    "M = len(s_icpsr)  # rows\n",
    "N = len(s_rollnumber)  # columns\n",
    "\n",
    "m_bia = np.zeros( shape=( M, 2*N ) , dtype = np.int8)  # for senator covoting\n",
    "\n",
    "\n",
    "for r, d in join_select.iterrows():\n",
    "    \n",
    "    row_i = s_icpsr[ s_icpsr == d[\"icpsr\"]  ].index[0]\n",
    "    \n",
    "    cast_value = d[\"cast_value\"]\n",
    "    \n",
    "    rollnumber = d[\"rollnumber\"]\n",
    "    \n",
    "    rollnumber_index = s_rollnumber[ s_rollnumber == rollnumber ].index[0]\n",
    "    \n",
    "    if cast_value == \"Yes\":\n",
    "        col_j = rollnumber_index\n",
    "    if cast_value == \"No\":\n",
    "        col_j = N + rollnumber_index\n",
    "    \n",
    "    m_bia[ row_i, col_j ] = 1\n",
    "\n",
    "np.savetxt(\"Nomination_Biadjacency_Matrix.csv\", m_bia, delimiter = \",\")  "
   ]
  },
  {
   "cell_type": "markdown",
   "id": "4725d3ce-e595-4432-9b79-c45f3cb2b60c",
   "metadata": {},
   "source": [
    "In the next step, we use the `join_select` dataframe to build the nomination cosupport biadjacency matrix which we denoted as $\\mathbf{Y}$ above.   We save a csv file version for reference.\n",
    "We initialize $\\mathbf{Y}$ as a matrix of zeroes and populate its non-zero entries based on the voting records.    The matrix $\\mathbf{Y}$ is partitioned into two submatrics $\\mathbf{Y_y}$ on the left side and $\\mathbf{Y_n}$ on the right side.  Each row of $\\mathbf{Y}$ is indexed by a list of its rollnumber values.\n",
    "Each column of $\\mathbf{Y}$ is indexed by a list of the Senator `icpsr` codes for `yea` and then `nay` respectively."
   ]
  },
  {
   "cell_type": "code",
   "execution_count": null,
   "id": "3340a36f-5da1-4f6e-8069-656b4f5dc8a4",
   "metadata": {
    "tags": []
   },
   "outputs": [],
   "source": [
    "\n",
    "m_bia2 = np.zeros( shape=(N , 2 * M ), dtype = np.int8 )  # for nomination co-support\n",
    "\n",
    "for r, d in join_select.iterrows():\n",
    "    \n",
    "    cast_value = d[\"cast_value\"]\n",
    "    rollnumber = d[\"rollnumber\"]\n",
    "\n",
    "    \n",
    "    row_i = s_rollnumber[ s_rollnumber == rollnumber ].index[0]\n",
    "    \n",
    "    icpsr_index =  s_icpsr[ s_icpsr == d[\"icpsr\"]  ].index[0]\n",
    "    \n",
    "    \n",
    "    if cast_value == \"Yes\":\n",
    "        col_j = icpsr_index\n",
    "    if cast_value == \"No\":\n",
    "        col_j = M + icpsr_index\n",
    "    \n",
    "    m_bia2[ row_i, col_j ] = 1\n",
    "\n",
    "np.savetxt(\"Senator_Biadjacency_Matrix.csv\", m_bia2, delimiter = \",\")  "
   ]
  },
  {
   "cell_type": "markdown",
   "id": "b3806d00-cf10-47d8-851d-a5cc845ca7f7",
   "metadata": {
    "tags": []
   },
   "source": [
    "Next, we do the matrix multiplications to obtain the adjacency matrix of the projected graph for Senator covoting.  As previously noted, the diagonal entries represent the number of times a Senator votes in the 113th Congress for nominations.  These could be thought of as self-loops which are not of interest.   We will construct a graph based on the upper triangular half of the matrix using `networkx` and save the result to `graphml` file format.\n",
    "\n",
    "The graph construction algorithm in `make_covoting_graph` is parameterized by a threshold weight $\\lambda$ which is the percentage of total nominations for this senators $i$ and $j$ concur in their votes for an edge to be added.\n",
    "While scaling of the edge weights is not necessary to derive the clusters of nodes in the projected graph, the percentages are more interpretable than raw counts.\n",
    "\n",
    "Clearly, when $\\lambda = 0$, all edges of $\\mathbf{W}$ are included into the graph.  However, when $\\lambda = 55$, we only include edges between senators if they concur in over 55 percent of all nominations.\n",
    "\n",
    "The results below are exported to `graphml` format to interactive visualization in the tool Gephi which have better plotting capabilities than `networkx`.\n"
   ]
  },
  {
   "cell_type": "code",
   "execution_count": null,
   "id": "04144e21-0def-4515-b2a7-ed4ecd123901",
   "metadata": {
    "tags": []
   },
   "outputs": [],
   "source": [
    "\n",
    "#\n",
    "# Now we compute the matrix equivalent of the projection of\n",
    "# The senators based on their common voting patterns for nominations.\n",
    "# by multiplying the biadjacency matrix by its own transpose\n",
    "# The resulting M X M matrix compares the number of common votes: yeas or nays where the senators concurred.\n",
    "#\n",
    "# Note that we only want to use the edges in the upper triangular half of the matrix.\n",
    "# since the product is symmetric.\n",
    "# -------------------------------------------------------------------------------\n",
    "senator_covoting =  np.matmul( m_bia, m_bia.transpose())\n",
    "\n",
    "#\n",
    "#\n",
    "# Now we draw the projected graph for the senators as an undirected\n",
    "# weighted graph.  Note that we scale each senator covoting score\n",
    "# by the number of nominations:  188\n",
    "# to normalize the covoting from counts to fractions of votes.\n",
    "# \n",
    "# Each threshold weight is entered in integer from 0-100\n",
    "#\n",
    "# Only include edges where covoting exceeds the threshold.\n",
    "# -----------------------------------------------------------------\n",
    "def make_covoting_graph( threshold_weight):\n",
    "\n",
    "    G_covoting = nx.Graph()\n",
    "\n",
    "    for r, d in members.iterrows():\n",
    "    \n",
    "        senator_id = d[\"icpsr\"]\n",
    "    \n",
    "        G_covoting.add_node( senator_id, \n",
    "                 short_name = d[\"short_name\"] ,\n",
    "                 bioname = d[\"bioname\"],\n",
    "                 party = d[\"party\"] ,\n",
    "                 state_abbrev = d[\"state_abbrev\"]\n",
    "               )\n",
    "        \n",
    "    for i in range(M):\n",
    "        for j in range(M):\n",
    "            if i < j:            \n",
    "                w_ij = senator_covoting[i,j]/188\n",
    "            \n",
    "                if w_ij > threshold_weight/100.0 :\n",
    "                    G_covoting.add_edge( s_icpsr[i]  , s_icpsr[j]   ,weight= float(w_ij ) )\n",
    "\n",
    "\n",
    "    graphml_file = \"Senate_Covoting_K{}.graphml\".format(threshold_weight) \n",
    "\n",
    "    nx.write_graphml( G_covoting , graphml_file)\n",
    "    \n",
    "    return G_covoting\n"
   ]
  },
  {
   "cell_type": "code",
   "execution_count": null,
   "id": "a684e6e3-c63e-49f3-83b7-995a4b0f9e44",
   "metadata": {},
   "outputs": [],
   "source": [
    "G_covoting_55 = make_covoting_graph( 55  )\n",
    "\n",
    "G_covoting_60 = make_covoting_graph( 60  )\n",
    "\n",
    "G_covoting_65 = make_covoting_graph( 65  )\n",
    "\n",
    "\n",
    "def convert_party_color(row):\n",
    "    \n",
    "    party = row[\"party\"]\n",
    "    \n",
    "    if party == \"Democrat\":\n",
    "        return \"blue\"\n",
    "    if party  == \"Republican\":\n",
    "        return \"red\"\n",
    "    if party == \"Independent\":\n",
    "        return \"blue\"\n",
    "    return \"Unknown\"\n",
    "\n",
    "\n",
    "covoting_node_colors = members.apply( lambda row :  convert_party_color(row), axis = 1 )\n",
    "\n",
    "covoting_node_labels = { row[\"icpsr\"] : row[\"short_name\"] for i, row in members.iterrows()}\n",
    "\n",
    "def plot_covoting(G_covoting, threshold):\n",
    "\n",
    "    plt.figure(figsize = (12,10))\n",
    "    plt.tight_layout()\n",
    "    plt.axis(\"off\")\n",
    "\n",
    "    plt.suptitle(\"Senator Covoting {}\".format(threshold), y = 1.05 ,fontsize= 18)\n",
    "\n",
    "    plt.title(\"\"\"\n",
    "113 Congress - Nominations\n",
    "\"\"\", fontsize=12)\n",
    "    \n",
    "    \n",
    "    pos = nx.spring_layout(G_covoting)\n",
    "\n",
    "    weights = [ G_covoting_55[u][v]['weight'] for u,v in G_covoting_55.edges() ]\n",
    "\n",
    "    nx.draw_networkx_labels(G_covoting , pos = pos , labels = covoting_node_labels , font_size = 11 )\n",
    "\n",
    "    nx.draw_networkx_edges(G_covoting , pos = pos , width =  weights, edge_color = 'gray', alpha = 0.1)\n",
    "\n",
    "    nx.draw( G_covoting , pos = pos, with_labels = False, alpha = 0.6,  node_size = 100, node_color = covoting_node_colors )\n",
    "\n",
    "\n"
   ]
  },
  {
   "cell_type": "markdown",
   "id": "05f992de-9452-4135-86fc-738182ac3b25",
   "metadata": {},
   "source": [
    "The 3 plots below show the Senator weighted projection for three different $\\lambda = 55, 60, 65$. \n",
    "The node colors correspond to party affiliation with $\\color{blue}{\\text{Democrats in blue}}$ and $\\color{red}{\\text{Republicans in red}}$.\n",
    "\n",
    "A $\\lambda$ increases, the graph density decreases.  We see a cluster of like-minded voting behavior and groups of mostly Republican outliers.\n"
   ]
  },
  {
   "cell_type": "code",
   "execution_count": null,
   "id": "6d794936-ef70-4d6d-bb09-c1b5454bfd71",
   "metadata": {
    "tags": []
   },
   "outputs": [],
   "source": [
    "plot_covoting(G_covoting_55, 55)\n",
    "\n",
    "plot_covoting(G_covoting_60, 60)\n",
    "\n",
    "plot_covoting(G_covoting_65, 65)"
   ]
  },
  {
   "cell_type": "markdown",
   "id": "c21b1bc2-82f0-4542-8a2b-f95aed89dde6",
   "metadata": {},
   "source": [
    "Using the exported `graphml` file for the $\\lambda = 55$ covoting graph, we used the interactive tool *Gephi* to render a more detailed and better graphic below than what we can make using `networkx`.\n",
    "\n",
    "A link to the resulting Gephi project file is included below [Senator_Covote_K55.gephi](Senator_Covote_K55.gephi).\n",
    "\n",
    "<img src = \"Senate_Covoting_K55_v1.png\" width = \"1200\"/>\n",
    "\n"
   ]
  },
  {
   "cell_type": "markdown",
   "id": "51aa8042-998b-4049-b192-6a6014a4b132",
   "metadata": {},
   "source": [
    "The above graphic shows how Senators co-voted together in the 113th Congress on nominations.  Edges are shown only in they voted the same on $\\lambda = 55$ percent of nominations.  \n",
    "\n",
    "*  It was constructed using the Fruchterman-Reingold layout algorithm.  \n",
    "*  $\\color{blue}{\\text{Democratic nodes are blue.}}$  $\\color{red}{\\text{Republican nodes are red.}}$\n",
    "*  Node size depends on degree.\n",
    "\n",
    "**Findings**\n",
    "\n",
    "*  We observe that Republicans form a central cluster with coordination of their voting.  \n",
    "*  Democrats were more distributed in their overall voting.\n",
    "*  bipartisan links exist but is less frequent than intra-party concurrence.\n",
    "\n",
    "   +  Senator Blumenthal Democrat often voted in concert with Republicans more than with fellow Democrats.\n",
    "   +  Senator Collins Republican often voted with Democrats especially Senators Rockefeller (WV) and Markey (MA).\n",
    "   \n",
    "\n",
    "*  Some Senators on the periphery of the diagram did not follow the party line because:\n",
    "\n",
    "   +  They had different opinions:  Senator Barrasso\n",
    "   +  They resigned or died in office or were not elected in the usual fashion.\n",
    "      \n"
   ]
  },
  {
   "cell_type": "markdown",
   "id": "36323092-8a03-44c6-b83d-737b5f60ae4f",
   "metadata": {},
   "source": [
    "Next, we examine the co-voting subgraphs restricted by party.   How do the Democrats behave in their voting behavior compared to Republicans?   We construct these subgraphs by using the `networkx` `subgraph` function which takes a list of node identifiers as a parameter.   We examine the party restricted subgraphs for $\\lambda = 55$.   The resulting subgraphs are exported in `graphml` format and visualized using `Gephi`.\n",
    "\n",
    "We link to the Gephi files for [Democrats](Senate_Democrat_Covote_K55.gephi) and [Republicans](Senate_Republican_Covote_K55.gephi).\n"
   ]
  },
  {
   "cell_type": "code",
   "execution_count": null,
   "id": "19d3830b-6e02-4423-b6e1-c4e02ea5ee16",
   "metadata": {},
   "outputs": [],
   "source": [
    "#\n",
    "# Let's examine the subgraphs by party to understand\n",
    "# their covoting behavior.\n",
    "# -----------------------------------------------------\n",
    "members_democrat = [  row[\"icpsr\"] for d, row in members.iterrows() if row[\"party\"] != \"Republican\"]\n",
    "\n",
    "members_republican = [  row[\"icpsr\"] for d, row in members.iterrows() if row[\"party\"] == \"Republican\"]\n",
    "\n",
    "G_democrat_covoting_55 = G_covoting_55.subgraph(members_democrat)\n",
    "\n",
    "nx.write_graphml( G_democrat_covoting_55 , \"Senate_Democrat_Covoting_K{}.graphml\".format(55) )\n",
    "\n",
    "\n",
    "G_republican_covoting_55 = G_covoting_55.subgraph(members_republican)\n",
    "\n",
    "nx.write_graphml( G_republican_covoting_55 , \"Senate_Republican_Covoting_K{}.graphml\".format(55) )\n"
   ]
  },
  {
   "cell_type": "markdown",
   "id": "e29754df-73aa-4429-89fb-f3a309bc95e5",
   "metadata": {},
   "source": [
    "<H3>The Democratic Senator network at $\\lambda=55$ concurrent voting</H3>\n",
    "\n",
    "<img src=\"Senate_Democrat_Covote_K55_V2.png\" width=\"1200\" />\n",
    "\n",
    "\n",
    "<H3>The Republican Senator network at $\\lambda=55$ concurrent voting</H3>\n",
    "\n",
    "<img src=\"Senate_Republican_Covote_K55_v2.png\" width=\"1200\" />"
   ]
  },
  {
   "cell_type": "markdown",
   "id": "a56ca757-1fc6-40e8-ad6a-7be38a78fa9a",
   "metadata": {},
   "source": [
    "**Findings**\n",
    "\n",
    "There are significant differences in the concurrent voting behavior by party line.  \n",
    "\n",
    "*  Democratic Senators seems to belong to 3 clusters:  \n",
    "\n",
    "   + A large cluster whose center is Montana Senator John Walsh.   I interprete this cluster as a centrist group that approved nearly all of the Presidential nominations.   John Walsh approved all but 4 nominees and was never absent from voting.\n",
    "   \n",
    "   + A smaller cluster whose center is New Jersey Senator Corey Booker.  It includes West Virginia Senator Joe Machin - one of the most conservative.  This cluster might better be interpreted as disagreeing somewhat with Presidential nominees when policy or experience issues are raised by the Senator.\n",
    "   \n",
    "   + A smaller cluster of 3 senators: Mary Landrieu of Louisiana (conservative), Jay Rockefeller (moderate) of West Virginia and Ed Markey (liberal) of Massachusetts.  They are clustered because of **lower attendance** not ideology on votes.\n",
    "       "
   ]
  },
  {
   "cell_type": "markdown",
   "id": "526a631a-68b3-4d1d-848e-0fc4df65360b",
   "metadata": {},
   "source": [
    "* Republican Senators have a cluster centered on Senators Tom Coburn (Oklahoma) and Thad Cochran (Mississippi) but more mavericks.  \n",
    "\n",
    "   +  The center cluster is characterized as not voting for the majority of appointees.  45% approval for Senator Coburn.\n",
    "\n",
    "   +  Mavericks like Senator Grassley (Iowa) is characterized by a higher approval rating 61%."
   ]
  },
  {
   "cell_type": "markdown",
   "id": "29f1176d-07ae-452c-8248-c6d2a24a4a6c",
   "metadata": {},
   "source": [
    "## Nomination Concurrent Support\n",
    "\n",
    "To analyze the nominations, we construct the projected graph $H$ and then use the island method to adjust the threshold $\\lambda$ at which edges are included in the graph.\n",
    "Our threshold filtered projected graphs are saved to graphml file.  \n",
    "\n",
    "We report and visualize projected graphs with choices of $\\lambda = 60, 92$.  \n",
    "\n",
    "These two thresholds were chosen to illustrate the change in density and cluster formation.  \n",
    "\n",
    "These graphs are exported in graphml format and visualized in Gephi below."
   ]
  },
  {
   "cell_type": "code",
   "execution_count": null,
   "id": "5d85239b-b51c-4fc8-b965-66aeece93847",
   "metadata": {},
   "outputs": [],
   "source": [
    "#\n",
    "#  Next we consider how nominations are considered.\n",
    "#  Taking the dual approach to the senators, we ask if two nominations\n",
    "#  are alike when the senators voting for their appointments are \n",
    "#  the same or nearly so.\n",
    "# --------------------------------------------------------\n",
    "nominee_cosupport =  np.matmul( m_bia2 , m_bia2.transpose())\n"
   ]
  },
  {
   "cell_type": "code",
   "execution_count": null,
   "id": "f3ed65d1-07f3-4afc-9ccf-85393d9787e9",
   "metadata": {},
   "outputs": [],
   "source": [
    "# Now we draw the projected graph for the nominations as an undirected\n",
    "# weighted graph.  The function arguments:  \n",
    "#\n",
    "#    threshold_weight:  takes a positive integer argument between 0-99\n",
    "def make_cosupport_graph(threshold_weight):\n",
    "    G_cosupport = nx.Graph()\n",
    "\n",
    "    for r, d in nominations.iterrows():\n",
    "    \n",
    "        rollnumber = d[\"rollnumber\"]\n",
    "    \n",
    "        G_cosupport.add_node( rollnumber, \n",
    "                 name = d[\"Name\"] ,\n",
    "                 dept = d[\"dept\"],\n",
    "                 position = d[\"Position\"] ,\n",
    "                 bill_number = d[\"bill_number\"] ,\n",
    "                 yea_count = d[\"yea_count\"],\n",
    "                 nay_count = d[\"nay_count\"],\n",
    "                 margin = d[\"yea_count\"] - d[\"nay_count\"]\n",
    "               )\n",
    "\n",
    "    for i in range(N):\n",
    "        for j in range(N):\n",
    "            if i < j:\n",
    "            \n",
    "                w_ij = nominee_cosupport[i,j]/100\n",
    "            \n",
    "                if w_ij > threshold_weight/100.0 :\n",
    "                    G_cosupport.add_edge( s_rollnumber[i]  , s_rollnumber[j]   ,weight= float(w_ij ) )\n",
    "    \n",
    "    graphml_file = \"Nomination_Cosupport_K{}.graphml\".format(threshold_weight) \n",
    "    nx.write_graphml( G_cosupport , graphml_file)\n",
    "\n",
    "    return G_cosupport\n",
    "\n",
    "\n"
   ]
  },
  {
   "cell_type": "code",
   "execution_count": null,
   "id": "62cafeab-b40a-48d6-9418-906e84b0bb09",
   "metadata": {},
   "outputs": [],
   "source": [
    "G_cosupport_60 = make_cosupport_graph( 60 )\n",
    "\n",
    "G_cosupport_92 = make_cosupport_graph( 92 )"
   ]
  },
  {
   "cell_type": "code",
   "execution_count": null,
   "id": "4c8d4e91-d561-4e35-aaf1-adcfd6b76e3d",
   "metadata": {},
   "outputs": [],
   "source": [
    "G_cosupport_60.order(), G_cosupport_60.number_of_edges()"
   ]
  },
  {
   "cell_type": "code",
   "execution_count": null,
   "id": "e860fa9d-dc5c-4106-8b1d-6f9701fc255c",
   "metadata": {},
   "outputs": [],
   "source": [
    "G_cosupport_92.order(), G_cosupport_92.number_of_edges()"
   ]
  },
  {
   "cell_type": "markdown",
   "id": "17d7cc2a-46b9-4290-83e2-638e183749c6",
   "metadata": {},
   "source": [
    "The nomination co-support graph for these thresholds were loaded into Gephi.  \n",
    "\n",
    "<H3>Nomination Concurrent Support by Senators with 60% Threshold</H3>\n",
    "\n",
    "Number of vertices:  188\n",
    "\n",
    "Number of edges:  13,321\n",
    "\n",
    "A link to the $\\lambda = 60$ gephi file is [here](Nomination_Cosupport_K60.gephi).\n",
    "\n",
    "Plot conventions:\n",
    "\n",
    "*  Node size is proportional to number of Yea votes.  More senators in favor means larger node diameter.\n",
    "\n",
    "*  Edge width is proportional to weight.   More agreement between two nominations means thicker line.\n",
    "\n",
    "*  Node label is the name of the nominee.\n",
    "\n",
    "*  Node color shows the custom group of departments of each position.   E.g Judiciary, State, Regulatory.  A legend is shown below.\n",
    "\n",
    "<img src = \"Cosupport_Dept_Legend.png\" width=\"200\" />\n",
    "\n",
    "<img src = \"Nomination_Cosupport_K60_V2.png\" width=\"1500\" />"
   ]
  },
  {
   "cell_type": "markdown",
   "id": "bbf2a31c-152a-40f6-90e0-df0010130ef5",
   "metadata": {},
   "source": [
    "Overall, the plot at threshold $\\lambda$ is too dense to be useful.  However, we can see two clusters forming with nodes in between the 2 clusters.\n",
    "\n",
    "We reserve our comments for the higher threshold $\\lambda = 92$ graph below.  "
   ]
  },
  {
   "cell_type": "markdown",
   "id": "d043ed37-f6bd-4682-a059-b2ce7118e4dd",
   "metadata": {},
   "source": [
    "<H3>Nomination Concurrent Support by Senators with 92% Threshold</H3>\n",
    "\n",
    "Number of vertices: 188\n",
    "\n",
    "Number of edges:  4,365\n",
    "\n",
    "The color scheme and layout algorithm are the same as above.\n",
    "\n",
    "A link to the $\\lambda = 92$ gephi file is [here](Nomination_Cosupport_K92.gephi).\n",
    "\n",
    "Plot conventions:\n",
    "\n",
    "*  Node size is proportional to number of Yea votes.  More senators in favor means larger node diameter.\n",
    "\n",
    "*  Edge width is proportional to weight.   More agreement between two nominations means thicker line.\n",
    "\n",
    "*  Node label is the name of the nominee.\n",
    "\n",
    "*  Node color shows the custom group of departments of each position.   E.g Judiciary, State, Regulatory.  A legend is shown below.\n",
    "\n",
    "<img src = \"Cosupport_Dept_Legend.png\" width=\"200\" />\n",
    "\n",
    "<img src = \"Nomination_Cosupport_K92_V1.png\" width=\"1800\" />"
   ]
  },
  {
   "cell_type": "markdown",
   "id": "aa13828a-fb4a-4ab9-9ca5-1b12cdcdea73",
   "metadata": {},
   "source": [
    "**Findings**\n",
    "\n",
    "*  There are 2 clusters of nominations.   A large dense cluster of mostly $\\color{violet}{\\text{judicial}}$ appointments are confirmed with large positive vote margins.\n",
    "\n",
    "*  A smaller less dense cluster of nomination with small node sizes.  They pass often on narrow party line votes due to ideological issues:\n",
    "\n",
    "    +  Antony Blinken for Deputy State Department confirmed by 55/38 \n",
    "    + Tom Perez for Secretary of Labor by 54/46.\n",
    "\n",
    "\n",
    "*  $\\color{green}{\\text{State Department in green}}$ are also usually confirmed for ambassadors, United Nations, Secretaries.  \n",
    "\n",
    "*  $\\color{black}{\\text{Banking and Finance in black}}$ are often challenged and not consisten with other votes. \n",
    "\n",
    "*  Competence of the nominee is unrelated to more positive votes or concurrent support.  \n",
    "\n",
    "   +  Example: Janet Yellen and Stanley Fischer, well regarded central bankers, faced moderate opposition.  They are also isolates in the $\\lambda = 92$ island graph.\n",
    "   \n",
    "\n",
    "*  Regulatory nominations are often challenged by Republicans (too liberal) or Democrats (too conservative).\n",
    "\n",
    "   +  Example:  Sharon Bowen - Commodities, Futures Trading Commission (CFTC) by 48/46.\n",
    "   \n",
    "   +  Example:  All 4 National Labor Relations Board members:   54/44,  59/38,  54/44, 54/40."
   ]
  },
  {
   "cell_type": "markdown",
   "id": "baf9149c-8da1-4b5e-87bf-d02f89983c55",
   "metadata": {},
   "source": [
    "## Conclusion\n",
    "\n",
    "Senate confirmation of Presidential appointees exhibits properties of social networks.   \n",
    "\n",
    "These appointments can define a bipartite network which yields interesting insights when applying the island method on edge weights of the bipartite projection.\n",
    "\n",
    "When we project the graph on the senators, the traditional party division is visible but differences do exist between parties.\n",
    "\n",
    "*  For the Democrats, clusters seems to form around a centrist ideology for most Senators with another cluster formed around liberal and conservative factions.\n",
    "\n",
    "*  For Republicans, the main cluster forms around approval of popular non-ideological appointments but also disapproval of ideologically unacceptable candidates.   \n",
    "\n",
    "*  Republicans seems to have a larger number of maverick senators.\n",
    "\n",
    "When we project the graph on the nominations, different clusters emerge:\n",
    "\n",
    "*  one large cluster centers around the judiciary \n",
    "\n",
    "*  another cluster around contested appointees.\n",
    "\n",
    "Why do these clusters occur?  We cannot only speculate as the data does not speak for itself in this case.  Senatorial politics is governed by coalitions seeking to pass or deny appointments.  A great deal of bargaining takes place before the confirmation vote.  Even the occurrence of a vote signals progress.  For example, nominations can be stalled by opposition for months.   Cloture votes may be necessary to silence opposition or filibusters.\n",
    "\n",
    "The clusters represent categories of approval and disapproval of appointments for high ranking government positions.  \n",
    "\n",
    "The value of social network analysis is to\n",
    "\n",
    "*  quantify the proportion of each category of nominations.\n",
    "\n",
    "*  quantify the density of clusters of similiar nominations\n",
    "\n",
    "*  quantify future changes in polarization of the parties as Senate margins shrink or grow.\n",
    "\n",
    "Lastly, we observe that the 113th Congress was unusually contentious and unproductive in which nominations were the most substantive action taken.  (https://www.vox.com/mischiefs-of-faction/2016/5/17/11693956/113th-congress-unusual)  In hindsight, it is hard to see the current 117th Congress being much more productive as the Democrats' margin is now zero.\n"
   ]
  },
  {
   "cell_type": "code",
   "execution_count": null,
   "id": "d38bed7f-3701-4b83-b0af-c393a84509d0",
   "metadata": {},
   "outputs": [],
   "source": []
  }
 ],
 "metadata": {
  "kernelspec": {
   "display_name": "Python 3 (ipykernel)",
   "language": "python",
   "name": "python3"
  },
  "language_info": {
   "codemirror_mode": {
    "name": "ipython",
    "version": 3
   },
   "file_extension": ".py",
   "mimetype": "text/x-python",
   "name": "python",
   "nbconvert_exporter": "python",
   "pygments_lexer": "ipython3",
   "version": "3.7.11"
  }
 },
 "nbformat": 4,
 "nbformat_minor": 5
}
